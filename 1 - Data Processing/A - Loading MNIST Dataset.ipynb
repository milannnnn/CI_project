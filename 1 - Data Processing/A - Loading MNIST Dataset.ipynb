{
 "cells": [
  {
   "cell_type": "markdown",
   "metadata": {},
   "source": [
    "# Loading MNIST Dataset\n",
    "\n",
    "This script downloads, unpacks, merges and saves MNIST datasets (both train and test)\n",
    "\n",
    "http://yann.lecun.com/exdb/mnist/index.html"
   ]
  },
  {
   "cell_type": "markdown",
   "metadata": {},
   "source": [
    "## 0) Initialization"
   ]
  },
  {
   "cell_type": "code",
   "execution_count": 1,
   "metadata": {
    "collapsed": true
   },
   "outputs": [],
   "source": [
    "# Import the required modules:\n",
    "import gzip\n",
    "import shutil\n",
    "import os\n",
    "import numpy as np\n",
    "from urllib.request import urlretrieve\n",
    "from mnist import MNIST\n",
    "\n",
    "# Define DATA paths:\n",
    "DATA_folder  = '../../Data/'\n",
    "MNIST_folder = DATA_folder+'MNIST/'\n",
    "\n",
    "if not os.path.exists(MNIST_folder):\n",
    "    os.makedirs(MNIST_folder)"
   ]
  },
  {
   "cell_type": "markdown",
   "metadata": {},
   "source": [
    "## 1) Download and Unpack Data"
   ]
  },
  {
   "cell_type": "code",
   "execution_count": 2,
   "metadata": {
    "collapsed": true
   },
   "outputs": [],
   "source": [
    "### Defining reqired functions:\n",
    "\n",
    "# downloadData() - downloads a file and saves it to desired path\n",
    "def downloadData(file_url, gz_file_name):\n",
    "    print ('Downloading ' + file_url)\n",
    "    gzfname, h = urlretrieve(file_url, MNIST_folder+gz_file_name)\n",
    "    return\n",
    "\n",
    "# unpackData()   - unpacks a gz file and deletes the gz after\n",
    "def unpackData(gz_file_name, file_name):\n",
    "    print ('Unpacking ' + gz_file_name)\n",
    "    with gzip.open(MNIST_folder+gz_file_name, 'rb') as f_in, open(MNIST_folder+file_name, 'wb') as f_out:\n",
    "        shutil.copyfileobj(f_in, f_out)\n",
    "    os.remove(MNIST_folder+gz_file_name)\n",
    "    return"
   ]
  },
  {
   "cell_type": "code",
   "execution_count": 3,
   "metadata": {},
   "outputs": [
    {
     "name": "stdout",
     "output_type": "stream",
     "text": [
      "Downloading http://yann.lecun.com/exdb/mnist/train-images-idx3-ubyte.gz\n",
      "Unpacking train-images-idx3-ubyte.gz\n",
      "Downloading http://yann.lecun.com/exdb/mnist/train-labels-idx1-ubyte.gz\n",
      "Unpacking train-labels-idx1-ubyte.gz\n",
      "Downloading http://yann.lecun.com/exdb/mnist/t10k-images-idx3-ubyte.gz\n",
      "Unpacking t10k-images-idx3-ubyte.gz\n",
      "Downloading http://yann.lecun.com/exdb/mnist/t10k-labels-idx1-ubyte.gz\n",
      "Unpacking t10k-labels-idx1-ubyte.gz\n"
     ]
    }
   ],
   "source": [
    "### Download and unpack MNIST dataset files\n",
    "\n",
    "# Define filenames and urls:\n",
    "\n",
    "gznames = ['train-images-idx3-ubyte.gz',\n",
    "           'train-labels-idx1-ubyte.gz',\n",
    "           't10k-images-idx3-ubyte.gz',\n",
    "           't10k-labels-idx1-ubyte.gz']\n",
    "\n",
    "names   = ['train-images-idx3-ubyte',\n",
    "          'train-labels-idx1-ubyte',\n",
    "          't10k-images-idx3-ubyte',\n",
    "          't10k-labels-idx1-ubyte']\n",
    "\n",
    "urls    = ['http://yann.lecun.com/exdb/mnist/train-images-idx3-ubyte.gz',\n",
    "           'http://yann.lecun.com/exdb/mnist/train-labels-idx1-ubyte.gz',\n",
    "           'http://yann.lecun.com/exdb/mnist/t10k-images-idx3-ubyte.gz',\n",
    "           'http://yann.lecun.com/exdb/mnist/t10k-labels-idx1-ubyte.gz']\n",
    "\n",
    "for x in range(0, 4):\n",
    "    downloadData(urls[x],gznames[x])\n",
    "    unpackData(gznames[x],names[x])"
   ]
  },
  {
   "cell_type": "markdown",
   "metadata": {
    "collapsed": true
   },
   "source": [
    "## 2) Data Loading Examples\n",
    "\n",
    "MNIST module automatically reads images and labels (a list of images and array of labels), and checks data validity (magic number signature).\n",
    "\n",
    "    - images -> list of image (image -> list of unsigned bytes)\n",
    "    - labels -> array of unsigned bytes"
   ]
  },
  {
   "cell_type": "code",
   "execution_count": 6,
   "metadata": {
    "collapsed": true
   },
   "outputs": [],
   "source": [
    "# MNIST module data loading:\n",
    "mndata = MNIST(MNIST_folder)\n",
    "train_images, train_labels = mndata.load_training()\n",
    "test_images,  test_labels  = mndata.load_testing()"
   ]
  },
  {
   "cell_type": "code",
   "execution_count": 7,
   "metadata": {},
   "outputs": [],
   "source": [
    "# Convert to numpy arrays:\n",
    "train_imgs = np.array(train_images)/1.0\n",
    "train_lbls = np.array(train_labels)\n",
    "test_imgs = np.array(test_images)/1.0\n",
    "test_lbls = np.array(test_labels)\n",
    "\n",
    "# Clear regular arrays:\n",
    "train_images = None\n",
    "train_labels = None\n",
    "test_images  = None\n",
    "test_labels  = None\n",
    "\n",
    "# Save numPy versions:\n",
    "np.save(DATA_folder+'train_imgs.npy',train_imgs)\n",
    "np.save(DATA_folder+'train_lbls.npy',train_lbls)\n",
    "np.save(DATA_folder+'test_imgs.npy',test_imgs)\n",
    "np.save(DATA_folder+'test_lbls.npy',test_lbls)"
   ]
  }
 ],
 "metadata": {
  "kernelspec": {
   "display_name": "Python 3",
   "language": "python",
   "name": "python3"
  },
  "language_info": {
   "codemirror_mode": {
    "name": "ipython",
    "version": 3
   },
   "file_extension": ".py",
   "mimetype": "text/x-python",
   "name": "python",
   "nbconvert_exporter": "python",
   "pygments_lexer": "ipython3",
   "version": "3.6.1"
  }
 },
 "nbformat": 4,
 "nbformat_minor": 2
}
