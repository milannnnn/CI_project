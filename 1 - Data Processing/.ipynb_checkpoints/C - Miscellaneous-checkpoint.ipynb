{
 "cells": [
  {
   "cell_type": "markdown",
   "metadata": {},
   "source": [
    "## Miscellaneous Checkups and Plots"
   ]
  },
  {
   "cell_type": "markdown",
   "metadata": {},
   "source": [
    "### Initialization"
   ]
  },
  {
   "cell_type": "code",
   "execution_count": 1,
   "metadata": {
    "collapsed": true
   },
   "outputs": [],
   "source": [
    "# Import the required modules:\n",
    "import numpy as np\n",
    "from mnist import MNIST\n",
    "\n",
    "# Define folder paths:\n",
    "DATA_folder  = '../../Data/'\n",
    "MNIST_folder = DATA_folder+'MNIST/'"
   ]
  },
  {
   "cell_type": "markdown",
   "metadata": {},
   "source": [
    "### Data Preparation"
   ]
  },
  {
   "cell_type": "code",
   "execution_count": 2,
   "metadata": {
    "collapsed": true
   },
   "outputs": [],
   "source": [
    "# Read-in the images and labels:\n",
    "mndata = MNIST(MNIST_folder)\n",
    "train_images, train_labels = mndata.load_training()\n",
    "test_images,  test_labels  = mndata.load_testing()\n",
    "\n",
    "# Convert to numpy:\n",
    "train_imgs = np.array(train_images)\n",
    "train_lbls = np.array(train_labels)\n",
    "test_imgs = np.array(test_images)\n",
    "test_lbls = np.array(test_labels)\n",
    "\n",
    "# Clear regular:\n",
    "train_images = None\n",
    "train_labels = None\n",
    "test_images  = None\n",
    "test_labels  = None\n",
    "\n",
    "# Normalize:\n",
    "train_imgs = train_imgs/(np.float32(np.max(train_imgs)))\n",
    "test_imgs  = test_imgs /(np.float32(np.max(test_imgs)))"
   ]
  },
  {
   "cell_type": "markdown",
   "metadata": {},
   "source": [
    "### Sparsity Check:"
   ]
  },
  {
   "cell_type": "code",
   "execution_count": null,
   "metadata": {},
   "outputs": [],
   "source": [
    "### A) Sparsity Check (80% are white pixels -> makes sense to use SPARSE matrices)\n",
    "\n",
    "sum(sum(train_imgs==0))/(len(train_imgs)*784)*100"
   ]
  },
  {
   "cell_type": "markdown",
   "metadata": {},
   "source": [
    "### Contrast Check:"
   ]
  },
  {
   "cell_type": "code",
   "execution_count": null,
   "metadata": {},
   "outputs": [],
   "source": [
    "### B) Contrast Check (all images hit 254-255 ratio -> NO NEED to rescale)\n",
    "\n",
    "myMin = 256\n",
    "\n",
    "for k in range(0,len(train_imgs)):\n",
    "    if(np.max(train_imgs[k])<255):\n",
    "        #print(k)\n",
    "        if(np.max(train_imgs[k])<myMin):\n",
    "            myMin = np.max(train_imgs[k])\n",
    "            \n",
    "myMin"
   ]
  },
  {
   "cell_type": "markdown",
   "metadata": {},
   "source": [
    "### 2D PCA Plot:"
   ]
  },
  {
   "cell_type": "code",
   "execution_count": null,
   "metadata": {
    "collapsed": true
   },
   "outputs": [],
   "source": [
    "import matplotlib.pyplot as plt\n",
    "from sklearn.decomposition import PCA as sklearnPCA\n",
    "\n",
    "pca = sklearnPCA(n_components=2) #2-dimensional PCA\n",
    "transformed = pca.fit_transform(train_imgs)"
   ]
  },
  {
   "cell_type": "code",
   "execution_count": null,
   "metadata": {},
   "outputs": [],
   "source": [
    "lim = 100\n",
    "\n",
    "a = np.zeros((10,lim,2))\n",
    "\n",
    "for n in range(0,10):\n",
    "    m = 0\n",
    "    for k in range(0,len(train_lbls)):\n",
    "        if (train_lbls[k]==n):\n",
    "            a[n][m] = transformed[k]\n",
    "            m+=1\n",
    "        if (m==lim):\n",
    "            break\n",
    "            \n",
    "plt.scatter(a[0,:,0], a[0,:,1], label='0', c='red')\n",
    "plt.scatter(a[1,:,0], a[1,:,1], label='1', c='blue')\n",
    "plt.scatter(a[2,:,0], a[2,:,1], label='2', c='lightgreen')\n",
    "plt.scatter(a[3,:,0], a[3,:,1], label='3', c='cyan')\n",
    "plt.scatter(a[4,:,0], a[4,:,1], label='4', c='magenta')\n",
    "plt.scatter(a[5,:,0], a[5,:,1], label='5', c='yellow')\n",
    "plt.scatter(a[6,:,0], a[6,:,1], label='6', c='black')\n",
    "plt.scatter(a[7,:,0], a[7,:,1], label='7', c='purple')\n",
    "plt.scatter(a[8,:,0], a[8,:,1], label='8', c='lightblue')\n",
    "plt.scatter(a[9,:,0], a[9,:,1], label='9', c='purple')\n",
    "\n",
    "plt.legend()\n",
    "plt.show()"
   ]
  },
  {
   "cell_type": "markdown",
   "metadata": {},
   "source": [
    "### 3D PCA Plot:"
   ]
  },
  {
   "cell_type": "code",
   "execution_count": null,
   "metadata": {
    "collapsed": true
   },
   "outputs": [],
   "source": [
    "import matplotlib.pyplot as plt\n",
    "from sklearn.decomposition import PCA as sklearnPCA\n",
    "from mpl_toolkits.mplot3d import Axes3D\n",
    "\n",
    "pca = sklearnPCA(n_components=3) #2-dimensional PCA\n",
    "transformed = pca.fit_transform(train_imgs)"
   ]
  },
  {
   "cell_type": "code",
   "execution_count": null,
   "metadata": {},
   "outputs": [],
   "source": [
    "lim = 100\n",
    "\n",
    "a = np.zeros((10,lim,3))\n",
    "\n",
    "for n in range(0,10):\n",
    "    m = 0\n",
    "    for k in range(0,len(train_lbls)):\n",
    "        if (train_lbls[k]==n):\n",
    "            a[n][m] = transformed[k]\n",
    "            m+=1\n",
    "        if (m==lim):\n",
    "            break\n",
    "            \n",
    "fig = plt.figure()\n",
    "ax = ax = Axes3D(fig)\n",
    "\n",
    "ax.scatter(a[0,:,0], a[0,:,1], a[0,:,2], label='0', c='r')\n",
    "ax.scatter(a[1,:,0], a[1,:,1], a[1,:,2], label='1', c='b')\n",
    "ax.scatter(a[2,:,0], a[2,:,1], a[2,:,2], label='2', c='lightgreen')\n",
    "ax.scatter(a[3,:,0], a[3,:,1], a[3,:,2], label='3', c='c')\n",
    "ax.scatter(a[4,:,0], a[4,:,1], a[4,:,2], label='4', c='m')\n",
    "ax.scatter(a[5,:,0], a[5,:,1], a[5,:,2], label='5', c='y')\n",
    "ax.scatter(a[6,:,0], a[6,:,1], a[6,:,2], label='6', c='lightblue')\n",
    "ax.scatter(a[7,:,0], a[7,:,1], a[7,:,2], label='7', c='purple')\n",
    "ax.scatter(a[8,:,0], a[8,:,1], a[8,:,2], label='8', c='gray')\n",
    "ax.scatter(a[9,:,0], a[9,:,1], a[9,:,2], label='9', c='black')\n",
    "\n",
    "plt.legend()\n",
    "plt.show()"
   ]
  },
  {
   "cell_type": "markdown",
   "metadata": {},
   "source": [
    "### 10D PCA Plot:"
   ]
  },
  {
   "cell_type": "code",
   "execution_count": null,
   "metadata": {
    "collapsed": true
   },
   "outputs": [],
   "source": [
    "import matplotlib.pyplot as plt\n",
    "from sklearn.decomposition import PCA as sklearnPCA\n",
    "\n",
    "pca = sklearnPCA(n_components=10) #2-dimensional PCA\n",
    "transformed = pca.fit_transform(train_imgs)"
   ]
  },
  {
   "cell_type": "code",
   "execution_count": null,
   "metadata": {
    "scrolled": false
   },
   "outputs": [],
   "source": [
    "lim = 500\n",
    "\n",
    "a = np.zeros((10,lim,10))\n",
    "\n",
    "for n in range(0,10):\n",
    "    m = 0\n",
    "    for k in range(0,len(train_lbls)):\n",
    "        if (train_lbls[k]==n):\n",
    "            a[n][m] = transformed[k]\n",
    "            m+=1\n",
    "        if (m==lim):\n",
    "            break\n",
    "            \n",
    "plt.scatter(a[4,:,4], a[4,:,6], label='4', c='red')\n",
    "plt.scatter(a[7,:,4], a[7,:,6], label='7', c='blue')\n",
    "\n",
    "plt.legend()\n",
    "plt.show()"
   ]
  },
  {
   "cell_type": "markdown",
   "metadata": {},
   "source": [
    "### Kernel PCA:"
   ]
  },
  {
   "cell_type": "code",
   "execution_count": 13,
   "metadata": {},
   "outputs": [],
   "source": [
    "import numpy as np\n",
    "from sklearn.decomposition import KernelPCA\n",
    "\n",
    "kpca = KernelPCA(kernel=\"rbf\", gamma=10, n_components = 2)\n",
    "\n",
    "X_kpca = kpca.fit_transform(test_imgs[0:5000])\n"
   ]
  },
  {
   "cell_type": "code",
   "execution_count": null,
   "metadata": {},
   "outputs": [],
   "source": [
    "lim = 500\n",
    "\n",
    "a = np.zeros((10,lim,10))\n",
    "\n",
    "for n in range(0,10):\n",
    "    m = 0\n",
    "    for k in range(0,len(train_lbls)):\n",
    "        if (train_lbls[k]==n):\n",
    "            a[n][m] = X_kpca[k]\n",
    "            m+=1\n",
    "        if (m==lim):\n",
    "            break\n",
    "            \n",
    "plt.scatter(a[4,:,4], a[4,:,6], label='4', c='red')\n",
    "plt.scatter(a[7,:,4], a[7,:,6], label='7', c='blue')\n",
    "\n",
    "plt.legend()\n",
    "plt.show()\n",
    "\n"
   ]
  },
  {
   "cell_type": "code",
   "execution_count": 14,
   "metadata": {},
   "outputs": [
    {
     "data": {
      "image/png": "[encoded data removed]",
      "text/plain": [
       "<matplotlib.figure.Figure at 0x210bd128da0>"
      ]
     },
     "metadata": {},
     "output_type": "display_data"
    }
   ],
   "source": [
    "# lim = 50\n",
    "\n",
    "# a = np.zeros((10,lim,2))\n",
    "\n",
    "# for n in range(0,10):\n",
    "#     m = 0\n",
    "#     for k in range(0,len(train_lbls)):\n",
    "#         if (train_lbls[k]==n):\n",
    "#             a[n][m] = X_kpca[k]\n",
    "#             m+=1\n",
    "#         if (m==lim):\n",
    "#             break\n",
    "            \n",
    "# plt.scatter(a[0,:,0], a[0,:,1], label='0', c='red')\n",
    "# plt.scatter(a[1,:,0], a[1,:,1], label='1', c='blue')\n",
    "# plt.scatter(a[2,:,0], a[2,:,1], label='2', c='lightgreen')\n",
    "# plt.scatter(a[3,:,0], a[3,:,1], label='3', c='cyan')\n",
    "# plt.scatter(a[4,:,0], a[4,:,1], label='4', c='magenta')\n",
    "# plt.scatter(a[5,:,0], a[5,:,1], label='5', c='yellow')\n",
    "# plt.scatter(a[6,:,0], a[6,:,1], label='6', c='black')\n",
    "# plt.scatter(a[7,:,0], a[7,:,1], label='7', c='purple')\n",
    "# plt.scatter(a[8,:,0], a[8,:,1], label='8', c='lightblue')\n",
    "# plt.scatter(a[9,:,0], a[9,:,1], label='9', c='purple')\n",
    "\n",
    "# plt.legend()\n",
    "# plt.show()"
   ]
  },
  {
   "cell_type": "code",
   "execution_count": 7,
   "metadata": {},
   "outputs": [
    {
     "ename": "MemoryError",
     "evalue": "",
     "output_type": "error",
     "traceback": [
      "\u001b[1;31m---------------------------------------------------------------------------\u001b[0m",
      "\u001b[1;31mMemoryError\u001b[0m                               Traceback (most recent call last)",
      "\u001b[1;32m<ipython-input-7-e318cc9cffd7>\u001b[0m in \u001b[0;36m<module>\u001b[1;34m()\u001b[0m\n\u001b[0;32m      8\u001b[0m \u001b[0mkpca\u001b[0m \u001b[1;33m=\u001b[0m \u001b[0mKernelPCA\u001b[0m\u001b[1;33m(\u001b[0m\u001b[0mkernel\u001b[0m\u001b[1;33m=\u001b[0m\u001b[1;34m\"cosine\"\u001b[0m\u001b[1;33m,\u001b[0m \u001b[0mn_components\u001b[0m \u001b[1;33m=\u001b[0m \u001b[1;36m100\u001b[0m\u001b[1;33m)\u001b[0m\u001b[1;33m\u001b[0m\u001b[0m\n\u001b[0;32m      9\u001b[0m \u001b[1;33m\u001b[0m\u001b[0m\n\u001b[1;32m---> 10\u001b[1;33m \u001b[0mkpca\u001b[0m\u001b[1;33m.\u001b[0m\u001b[0mfit\u001b[0m\u001b[1;33m(\u001b[0m\u001b[0mtrain_imgs\u001b[0m\u001b[1;33m)\u001b[0m\u001b[1;33m\u001b[0m\u001b[0m\n\u001b[0m",
      "\u001b[1;32mC:\\ProgramData\\Anaconda3\\lib\\site-packages\\sklearn\\decomposition\\kernel_pca.py\u001b[0m in \u001b[0;36mfit\u001b[1;34m(self, X, y)\u001b[0m\n\u001b[0;32m    236\u001b[0m         \"\"\"\n\u001b[0;32m    237\u001b[0m         \u001b[0mX\u001b[0m \u001b[1;33m=\u001b[0m \u001b[0mcheck_array\u001b[0m\u001b[1;33m(\u001b[0m\u001b[0mX\u001b[0m\u001b[1;33m,\u001b[0m \u001b[0maccept_sparse\u001b[0m\u001b[1;33m=\u001b[0m\u001b[1;34m'csr'\u001b[0m\u001b[1;33m,\u001b[0m \u001b[0mcopy\u001b[0m\u001b[1;33m=\u001b[0m\u001b[0mself\u001b[0m\u001b[1;33m.\u001b[0m\u001b[0mcopy_X\u001b[0m\u001b[1;33m)\u001b[0m\u001b[1;33m\u001b[0m\u001b[0m\n\u001b[1;32m--> 238\u001b[1;33m         \u001b[0mK\u001b[0m \u001b[1;33m=\u001b[0m \u001b[0mself\u001b[0m\u001b[1;33m.\u001b[0m\u001b[0m_get_kernel\u001b[0m\u001b[1;33m(\u001b[0m\u001b[0mX\u001b[0m\u001b[1;33m)\u001b[0m\u001b[1;33m\u001b[0m\u001b[0m\n\u001b[0m\u001b[0;32m    239\u001b[0m         \u001b[0mself\u001b[0m\u001b[1;33m.\u001b[0m\u001b[0m_fit_transform\u001b[0m\u001b[1;33m(\u001b[0m\u001b[0mK\u001b[0m\u001b[1;33m)\u001b[0m\u001b[1;33m\u001b[0m\u001b[0m\n\u001b[0;32m    240\u001b[0m \u001b[1;33m\u001b[0m\u001b[0m\n",
      "\u001b[1;32mC:\\ProgramData\\Anaconda3\\lib\\site-packages\\sklearn\\decomposition\\kernel_pca.py\u001b[0m in \u001b[0;36m_get_kernel\u001b[1;34m(self, X, Y)\u001b[0m\n\u001b[0;32m    164\u001b[0m         return pairwise_kernels(X, Y, metric=self.kernel,\n\u001b[0;32m    165\u001b[0m                                 \u001b[0mfilter_params\u001b[0m\u001b[1;33m=\u001b[0m\u001b[1;32mTrue\u001b[0m\u001b[1;33m,\u001b[0m \u001b[0mn_jobs\u001b[0m\u001b[1;33m=\u001b[0m\u001b[0mself\u001b[0m\u001b[1;33m.\u001b[0m\u001b[0mn_jobs\u001b[0m\u001b[1;33m,\u001b[0m\u001b[1;33m\u001b[0m\u001b[0m\n\u001b[1;32m--> 166\u001b[1;33m                                 **params)\n\u001b[0m\u001b[0;32m    167\u001b[0m \u001b[1;33m\u001b[0m\u001b[0m\n\u001b[0;32m    168\u001b[0m     \u001b[1;32mdef\u001b[0m \u001b[0m_fit_transform\u001b[0m\u001b[1;33m(\u001b[0m\u001b[0mself\u001b[0m\u001b[1;33m,\u001b[0m \u001b[0mK\u001b[0m\u001b[1;33m)\u001b[0m\u001b[1;33m:\u001b[0m\u001b[1;33m\u001b[0m\u001b[0m\n",
      "\u001b[1;32mC:\\ProgramData\\Anaconda3\\lib\\site-packages\\sklearn\\metrics\\pairwise.py\u001b[0m in \u001b[0;36mpairwise_kernels\u001b[1;34m(X, Y, metric, filter_params, n_jobs, **kwds)\u001b[0m\n\u001b[0;32m   1403\u001b[0m         \u001b[1;32mraise\u001b[0m \u001b[0mValueError\u001b[0m\u001b[1;33m(\u001b[0m\u001b[1;34m\"Unknown kernel %r\"\u001b[0m \u001b[1;33m%\u001b[0m \u001b[0mmetric\u001b[0m\u001b[1;33m)\u001b[0m\u001b[1;33m\u001b[0m\u001b[0m\n\u001b[0;32m   1404\u001b[0m \u001b[1;33m\u001b[0m\u001b[0m\n\u001b[1;32m-> 1405\u001b[1;33m     \u001b[1;32mreturn\u001b[0m \u001b[0m_parallel_pairwise\u001b[0m\u001b[1;33m(\u001b[0m\u001b[0mX\u001b[0m\u001b[1;33m,\u001b[0m \u001b[0mY\u001b[0m\u001b[1;33m,\u001b[0m \u001b[0mfunc\u001b[0m\u001b[1;33m,\u001b[0m \u001b[0mn_jobs\u001b[0m\u001b[1;33m,\u001b[0m \u001b[1;33m**\u001b[0m\u001b[0mkwds\u001b[0m\u001b[1;33m)\u001b[0m\u001b[1;33m\u001b[0m\u001b[0m\n\u001b[0m",
      "\u001b[1;32mC:\\ProgramData\\Anaconda3\\lib\\site-packages\\sklearn\\metrics\\pairwise.py\u001b[0m in \u001b[0;36m_parallel_pairwise\u001b[1;34m(X, Y, func, n_jobs, **kwds)\u001b[0m\n\u001b[0;32m   1088\u001b[0m     \u001b[1;32mif\u001b[0m \u001b[0mn_jobs\u001b[0m \u001b[1;33m==\u001b[0m \u001b[1;36m1\u001b[0m\u001b[1;33m:\u001b[0m\u001b[1;33m\u001b[0m\u001b[0m\n\u001b[0;32m   1089\u001b[0m         \u001b[1;31m# Special case to avoid picklability checks in delayed\u001b[0m\u001b[1;33m\u001b[0m\u001b[1;33m\u001b[0m\u001b[0m\n\u001b[1;32m-> 1090\u001b[1;33m         \u001b[1;32mreturn\u001b[0m \u001b[0mfunc\u001b[0m\u001b[1;33m(\u001b[0m\u001b[0mX\u001b[0m\u001b[1;33m,\u001b[0m \u001b[0mY\u001b[0m\u001b[1;33m,\u001b[0m \u001b[1;33m**\u001b[0m\u001b[0mkwds\u001b[0m\u001b[1;33m)\u001b[0m\u001b[1;33m\u001b[0m\u001b[0m\n\u001b[0m\u001b[0;32m   1091\u001b[0m \u001b[1;33m\u001b[0m\u001b[0m\n\u001b[0;32m   1092\u001b[0m     \u001b[1;31m# TODO: in some cases, backend='threading' may be appropriate\u001b[0m\u001b[1;33m\u001b[0m\u001b[1;33m\u001b[0m\u001b[0m\n",
      "\u001b[1;32mC:\\ProgramData\\Anaconda3\\lib\\site-packages\\sklearn\\metrics\\pairwise.py\u001b[0m in \u001b[0;36mcosine_similarity\u001b[1;34m(X, Y, dense_output)\u001b[0m\n\u001b[0;32m    923\u001b[0m         \u001b[0mY_normalized\u001b[0m \u001b[1;33m=\u001b[0m \u001b[0mnormalize\u001b[0m\u001b[1;33m(\u001b[0m\u001b[0mY\u001b[0m\u001b[1;33m,\u001b[0m \u001b[0mcopy\u001b[0m\u001b[1;33m=\u001b[0m\u001b[1;32mTrue\u001b[0m\u001b[1;33m)\u001b[0m\u001b[1;33m\u001b[0m\u001b[0m\n\u001b[0;32m    924\u001b[0m \u001b[1;33m\u001b[0m\u001b[0m\n\u001b[1;32m--> 925\u001b[1;33m     \u001b[0mK\u001b[0m \u001b[1;33m=\u001b[0m \u001b[0msafe_sparse_dot\u001b[0m\u001b[1;33m(\u001b[0m\u001b[0mX_normalized\u001b[0m\u001b[1;33m,\u001b[0m \u001b[0mY_normalized\u001b[0m\u001b[1;33m.\u001b[0m\u001b[0mT\u001b[0m\u001b[1;33m,\u001b[0m \u001b[0mdense_output\u001b[0m\u001b[1;33m=\u001b[0m\u001b[0mdense_output\u001b[0m\u001b[1;33m)\u001b[0m\u001b[1;33m\u001b[0m\u001b[0m\n\u001b[0m\u001b[0;32m    926\u001b[0m \u001b[1;33m\u001b[0m\u001b[0m\n\u001b[0;32m    927\u001b[0m     \u001b[1;32mreturn\u001b[0m \u001b[0mK\u001b[0m\u001b[1;33m\u001b[0m\u001b[0m\n",
      "\u001b[1;32mC:\\ProgramData\\Anaconda3\\lib\\site-packages\\sklearn\\utils\\extmath.py\u001b[0m in \u001b[0;36msafe_sparse_dot\u001b[1;34m(a, b, dense_output)\u001b[0m\n\u001b[0;32m    138\u001b[0m         \u001b[1;32mreturn\u001b[0m \u001b[0mret\u001b[0m\u001b[1;33m\u001b[0m\u001b[0m\n\u001b[0;32m    139\u001b[0m     \u001b[1;32melse\u001b[0m\u001b[1;33m:\u001b[0m\u001b[1;33m\u001b[0m\u001b[0m\n\u001b[1;32m--> 140\u001b[1;33m         \u001b[1;32mreturn\u001b[0m \u001b[0mnp\u001b[0m\u001b[1;33m.\u001b[0m\u001b[0mdot\u001b[0m\u001b[1;33m(\u001b[0m\u001b[0ma\u001b[0m\u001b[1;33m,\u001b[0m \u001b[0mb\u001b[0m\u001b[1;33m)\u001b[0m\u001b[1;33m\u001b[0m\u001b[0m\n\u001b[0m\u001b[0;32m    141\u001b[0m \u001b[1;33m\u001b[0m\u001b[0m\n\u001b[0;32m    142\u001b[0m \u001b[1;33m\u001b[0m\u001b[0m\n",
      "\u001b[1;31mMemoryError\u001b[0m: "
     ]
    }
   ],
   "source": [
    "import numpy as np\n",
    "import matplotlib.pyplot as plt\n",
    "from scipy import linalg\n",
    "\n",
    "from sklearn.decomposition import PCA, KernelPCA\n",
    "from sklearn.model_selection import cross_val_score\n",
    "\n",
    "kpca = KernelPCA(kernel=\"cosine\", n_components = 100)\n",
    "\n",
    "kpca.fit(train_imgs)\n"
   ]
  },
  {
   "cell_type": "code",
   "execution_count": null,
   "metadata": {},
   "outputs": [],
   "source": []
  },
  {
   "cell_type": "markdown",
   "metadata": {
    "collapsed": true
   },
   "source": [
    "### Finding the best PCA decomposition:"
   ]
  },
  {
   "cell_type": "code",
   "execution_count": null,
   "metadata": {},
   "outputs": [],
   "source": [
    "# n_components = 630!!!\n",
    "\n",
    "import numpy as np\n",
    "import matplotlib.pyplot as plt\n",
    "from scipy import linalg\n",
    "\n",
    "from sklearn.decomposition import PCA\n",
    "from sklearn.model_selection import cross_val_score\n",
    "n_start = 10\n",
    "n_end   = 700\n",
    "\n",
    "segs = 3\n",
    "\n",
    "while (n_end-n_start)>1:\n",
    "    \n",
    "    delta = round((n_end-n_start)/segs)\n",
    "    \n",
    "    pca_scores = []\n",
    "    \n",
    "    for k in range(0,segs+1):\n",
    "        n = n_start + k*delta\n",
    "        #print(type(n))\n",
    "        pca = PCA(n_components=n)\n",
    "        #a=(np.mean(cross_val_score(pca, test_imgs)))\n",
    "        pca_scores.append(np.mean(cross_val_score(pca, train_imgs)))\n",
    "    \n",
    "    n_max = np.argmax(pca_scores)\n",
    "    n_max = int(n_max.item())\n",
    "    print(pca_scores[n_max],n_start+n_max*delta)\n",
    "    \n",
    "    if   n_max == 0:\n",
    "        n_end = n_start + delta\n",
    "    elif n_max == segs:\n",
    "        n_start = n_end-delta\n",
    "    else:\n",
    "        n_end   = n_start + (n_max+1)*delta\n",
    "        n_start = n_end - 2*delta\n",
    "        \n",
    "    "
   ]
  },
  {
   "cell_type": "code",
   "execution_count": null,
   "metadata": {},
   "outputs": [],
   "source": []
  },
  {
   "cell_type": "code",
   "execution_count": null,
   "metadata": {
    "collapsed": true
   },
   "outputs": [],
   "source": []
  }
 ],
 "metadata": {
  "kernelspec": {
   "display_name": "Python 3",
   "language": "python",
   "name": "python3"
  },
  "language_info": {
   "codemirror_mode": {
    "name": "ipython",
    "version": 3
   },
   "file_extension": ".py",
   "mimetype": "text/x-python",
   "name": "python",
   "nbconvert_exporter": "python",
   "pygments_lexer": "ipython3",
   "version": "3.6.1"
  }
 },
 "nbformat": 4,
 "nbformat_minor": 2
}
