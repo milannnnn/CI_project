{
 "cells": [
  {
   "cell_type": "markdown",
   "metadata": {},
   "source": [
    "# Data Processing and Splitting\n",
    "\n"
   ]
  },
  {
   "cell_type": "markdown",
   "metadata": {},
   "source": [
    "## 0) Initialization"
   ]
  },
  {
   "cell_type": "code",
   "execution_count": 1,
   "metadata": {
    "collapsed": true
   },
   "outputs": [],
   "source": [
    "# Import the required modules:\n",
    "import numpy as np\n",
    "import os\n",
    "from mnist import MNIST\n",
    "\n",
    "# Define folder paths:\n",
    "DATA_folder  = '../../Data/'\n",
    "MNIST_folder = DATA_folder+'MNIST/'\n",
    "CLUSTER_folder = DATA_folder+'Clusters/'\n",
    "\n",
    "# Create Cluster Folder path\n",
    "if not os.path.exists(CLUSTER_folder):\n",
    "    os.makedirs(CLUSTER_folder)"
   ]
  },
  {
   "cell_type": "markdown",
   "metadata": {},
   "source": [
    "## 1) Data Loading"
   ]
  },
  {
   "cell_type": "code",
   "execution_count": 2,
   "metadata": {
    "collapsed": true
   },
   "outputs": [],
   "source": [
    "# Read-in the images and labels:\n",
    "\n",
    "mndata = MNIST(MNIST_folder)\n",
    "\n",
    "train_images, train_labels = mndata.load_training()\n",
    "test_images,  test_labels  = mndata.load_testing()"
   ]
  },
  {
   "cell_type": "code",
   "execution_count": 3,
   "metadata": {
    "collapsed": true
   },
   "outputs": [],
   "source": [
    "# Convert to numpy and clear regular:\n",
    "\n",
    "train_imgs = np.array(train_images)\n",
    "train_lbls = np.array(train_labels)\n",
    "test_imgs = np.array(test_images)\n",
    "test_lbls = np.array(test_labels)\n",
    "\n",
    "train_images = None\n",
    "train_labels = None\n",
    "test_images  = None\n",
    "test_labels  = None"
   ]
  },
  {
   "cell_type": "markdown",
   "metadata": {},
   "source": [
    "## 3) Data Normalization"
   ]
  },
  {
   "cell_type": "code",
   "execution_count": 4,
   "metadata": {
    "collapsed": true
   },
   "outputs": [],
   "source": [
    "# Rescale all images to [0,1] scale\n",
    "train_imgs = train_imgs/(np.float32(np.max(train_imgs)))\n",
    "test_imgs  = test_imgs /(np.float32(np.max(test_imgs)))"
   ]
  },
  {
   "cell_type": "markdown",
   "metadata": {},
   "source": [
    "## 4) Data Splitting (over digits)"
   ]
  },
  {
   "cell_type": "code",
   "execution_count": 5,
   "metadata": {
    "collapsed": true
   },
   "outputs": [],
   "source": [
    "### Split the train set over each digit:\n",
    "\n",
    "# split_over_digits() - splits the dataset into subsets over each digit!!!\n",
    "def split_over_digits(train_imgs,train_lbls):\n",
    "    \n",
    "    freq = [0,0,0,0,0,0,0,0,0,0]\n",
    "    for k in range(0,len(train_lbls)):\n",
    "        freq[train_lbls[k]]+=1\n",
    "        \n",
    "    train_subsets = []\n",
    "    for k in range(0,10):\n",
    "        l = 0\n",
    "        subset = np.zeros((freq[k],784))\n",
    "        for j in range(0,len(train_lbls)):\n",
    "            if(train_lbls[j]==k):\n",
    "                subset[l] = train_imgs[j]\n",
    "                l+=1\n",
    "        train_subsets.append(subset)\n",
    "        \n",
    "    return train_subsets\n",
    "\n",
    "train_split = split_over_digits(train_imgs,train_lbls)\n",
    "\n",
    "# # Check the separations:\n",
    "# print(train_lbls[59990:60000])\n",
    "# print(sum(train_split[9][-1]-train_imgs[-8]))\n",
    "# print(sum(train_split[9][-2]-train_imgs[-10]))\n",
    "# print(sum(train_split[8][-1]-train_imgs[-1]))\n",
    "# print(sum(train_split[6][-1]-train_imgs[-2]))\n",
    "# print(sum(train_split[5][-1]-train_imgs[-3]))"
   ]
  },
  {
   "cell_type": "code",
   "execution_count": 6,
   "metadata": {
    "collapsed": true
   },
   "outputs": [],
   "source": [
    "### Save the digit splits as numpy arrays for clustering:\n",
    "\n",
    "for k in range(0,10):\n",
    "    fl_nm = CLUSTER_folder+'train_'+str(k)+'.npy'\n",
    "    np.save(fl_nm, train_split[k])\n",
    "\n",
    "np.save(CLUSTER_folder+'train_imgs.npy', train_imgs)\n",
    "np.save(CLUSTER_folder+'train_lbls.npy', train_lbls)\n",
    "np.save(CLUSTER_folder+'test_imgs.npy', test_imgs)\n",
    "np.save(CLUSTER_folder+'test_lbls.npy', test_lbls)\n"
   ]
  },
  {
   "cell_type": "code",
   "execution_count": 8,
   "metadata": {},
   "outputs": [
    {
     "data": {
      "text/plain": [
       "0.0"
      ]
     },
     "execution_count": 8,
     "metadata": {},
     "output_type": "execute_result"
    }
   ],
   "source": [
    "np.min(train_split[3])"
   ]
  },
  {
   "cell_type": "markdown",
   "metadata": {
    "collapsed": true
   },
   "source": [
    "## 5) Centering"
   ]
  },
  {
   "cell_type": "code",
   "execution_count": 41,
   "metadata": {},
   "outputs": [
    {
     "name": "stdout",
     "output_type": "stream",
     "text": [
      "(1, 2264)\n",
      "(1, 5142)\n"
     ]
    }
   ],
   "source": [
    "# Check if all images are properly centered (they are 0_9)\n",
    "\n",
    "from scipy import ndimage\n",
    "\n",
    "for k in range(0,len(train_split)):\n",
    "    for l in range(0,len(train_split[k])):\n",
    "        a = train_split[k][l].reshape(28,28)\n",
    "        c = ndimage.measurements.center_of_mass(a)\n",
    "        if(c[0]<13.5 or c[1]<13.5 or c[0]>14.5 or c[1]>14.5):\n",
    "            print((k,l))\n"
   ]
  },
  {
   "cell_type": "code",
   "execution_count": 44,
   "metadata": {},
   "outputs": [
    {
     "name": "stdout",
     "output_type": "stream",
     "text": [
      "(14.496950000000002, 13.493550000000001)\n"
     ]
    }
   ],
   "source": [
    "a = train_split[1][5142].reshape(28,28)\n",
    "c = ndimage.measurements.center_of_mass(a)\n",
    "print(c)"
   ]
  },
  {
   "cell_type": "code",
   "execution_count": 35,
   "metadata": {},
   "outputs": [
    {
     "data": {
      "image/png": "[encoded data removed]",
      "text/plain": [
       "<matplotlib.figure.Figure at 0x202c5c66588>"
      ]
     },
     "metadata": {},
     "output_type": "display_data"
    },
    {
     "name": "stdout",
     "output_type": "stream",
     "text": [
      "(14.313231442495775, 13.537081855253126)\n"
     ]
    }
   ],
   "source": [
    "a = train_split[2][141].reshape(28,28)\n",
    "\n",
    "plt.imshow(a)\n",
    "plt.show()"
   ]
  },
  {
   "cell_type": "code",
   "execution_count": null,
   "metadata": {
    "collapsed": true
   },
   "outputs": [],
   "source": []
  },
  {
   "cell_type": "code",
   "execution_count": null,
   "metadata": {
    "collapsed": true
   },
   "outputs": [],
   "source": []
  },
  {
   "cell_type": "code",
   "execution_count": null,
   "metadata": {
    "collapsed": true
   },
   "outputs": [],
   "source": []
  },
  {
   "cell_type": "code",
   "execution_count": null,
   "metadata": {
    "collapsed": true
   },
   "outputs": [],
   "source": []
  }
 ],
 "metadata": {
  "kernelspec": {
   "display_name": "Python 3",
   "language": "python",
   "name": "python3"
  },
  "language_info": {
   "codemirror_mode": {
    "name": "ipython",
    "version": 3
   },
   "file_extension": ".py",
   "mimetype": "text/x-python",
   "name": "python",
   "nbconvert_exporter": "python",
   "pygments_lexer": "ipython3",
   "version": "3.6.1"
  }
 },
 "nbformat": 4,
 "nbformat_minor": 2
}
