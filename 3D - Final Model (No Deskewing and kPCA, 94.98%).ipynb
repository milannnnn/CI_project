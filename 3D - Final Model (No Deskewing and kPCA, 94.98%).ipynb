{
 "cells": [
  {
   "cell_type": "markdown",
   "metadata": {},
   "source": [
    "# Final RBFNN Model Script\n",
    "\n",
    "This script runs the final RBFNN model, obtained by previous hyper-parameter search."
   ]
  },
  {
   "cell_type": "markdown",
   "metadata": {},
   "source": [
    "## 0) Importing Modules and MNIST Data:"
   ]
  },
  {
   "cell_type": "code",
   "execution_count": 1,
   "metadata": {
    "collapsed": true
   },
   "outputs": [],
   "source": [
    "# NumPy and SciPy modules:\n",
    "import numpy as np\n",
    "from scipy.ndimage import interpolation\n",
    "# SciKit Learn Modules:\n",
    "from sklearn.base import BaseEstimator, TransformerMixin\n",
    "from sklearn.preprocessing import StandardScaler\n",
    "from sklearn.decomposition import KernelPCA\n",
    "from sklearn.cluster import KMeans, SpectralClustering\n",
    "from sklearn.linear_model  import LogisticRegression\n",
    "from sklearn.pipeline import Pipeline\n",
    "from sklearn.metrics import classification_report\n",
    "from sklearn.model_selection import PredefinedSplit\n",
    "# Dask Modules (for Grid Search):\n",
    "from dask.diagnostics import ProgressBar\n",
    "from dask_searchcv import GridSearchCV\n",
    "# Additional modules:\n",
    "import random,time,gc"
   ]
  },
  {
   "cell_type": "code",
   "execution_count": 2,
   "metadata": {
    "collapsed": true
   },
   "outputs": [],
   "source": [
    "# Importing MNIST Data:\n",
    "DATA_folder  = '../Data/'\n",
    "data = np.load(DATA_folder+'train_imgs.npy')\n",
    "lbls = np.load(DATA_folder+'train_lbls.npy')\n",
    "test_data = np.load(DATA_folder+'test_imgs.npy')\n",
    "test_lbls = np.load(DATA_folder+'test_lbls.npy')"
   ]
  },
  {
   "cell_type": "markdown",
   "metadata": {},
   "source": [
    "## 1) Definition of Scikit-Learn Transformer Objects:"
   ]
  },
  {
   "cell_type": "markdown",
   "metadata": {},
   "source": [
    "### Definition of Deskewing Transformer\n",
    "Transformer that applies a deskewing (2D shear + recentering) transformation on the images."
   ]
  },
  {
   "cell_type": "code",
   "execution_count": 3,
   "metadata": {
    "collapsed": true
   },
   "outputs": [],
   "source": [
    "# SKLEARN Compatible Transformer - Image Deskewing Transformation\n",
    "class myDeskewer(BaseEstimator, TransformerMixin):\n",
    "    \n",
    "    # Transformer initialization\n",
    "    def __init__(self, debug=False):\n",
    "        self.debug = debug\n",
    "    \n",
    "    # No fitting required:\n",
    "    def fit(self, X=None, y=None):        \n",
    "        return self\n",
    "    \n",
    "    # Definition of Moments Calculation Function\n",
    "    @staticmethod\n",
    "    def moments(image):\n",
    "        # Create mesh grids for centroid calculation:\n",
    "        c0,c1 = np.mgrid[:image.shape[0],:image.shape[1]] # A trick in numPy to create a mesh grid\n",
    "        # Calculate Total Image weight:\n",
    "        totalImage = np.sum(image) #sum of pixels\n",
    "        # Calculate image centroids:\n",
    "        m0 = np.sum(c0*image)/totalImage # mu_x\n",
    "        m1 = np.sum(c1*image)/totalImage # mu_y\n",
    "        # Calculate image variance and covariance\n",
    "        var = np.sum((c0-m0)**2*image)/totalImage      # Var(x)\n",
    "        cov = np.sum((c0-m0)*(c1-m1)*image)/totalImage # Cov(x,y)\n",
    "        mu_vector = np.array([m0,m1])\n",
    "        alpha = cov/var\n",
    "        return mu_vector, alpha\n",
    "\n",
    "    # Definition of Deskewing Function:\n",
    "    @staticmethod\n",
    "    def deskew(img):\n",
    "        image = img.reshape(28,28)\n",
    "        c,alpha = myDeskewer.moments(image)\n",
    "        # Define transformation matrix:\n",
    "        affine = np.array([[1,0],[alpha,1]])\n",
    "        # Define transformation offset:\n",
    "        ocenter = np.array(image.shape)/2.0\n",
    "        offset = c-np.dot(affine,ocenter)\n",
    "        # Return affine_transformation\n",
    "        return interpolation.affine_transform(image,affine,offset=offset).reshape(28*28)\n",
    "    \n",
    "    # Clculate Kernel Components based on obtained model\n",
    "    def transform(self, X, y=None):\n",
    "        \n",
    "        if self.debug:\n",
    "            print('Applying Deskewing Transformation!!!')\n",
    "            t = time.time()\n",
    "        # Preallocate memory:\n",
    "        new_data = np.empty(X.shape)\n",
    "        \n",
    "        # Loop over each image:\n",
    "        for k in range(X.shape[0]):\n",
    "            new_data[k]=myDeskewer.deskew(X[k])\n",
    "            \n",
    "        if self.debug:\n",
    "            print('Deskewing Transformation finished in: ',(time.time()-t))\n",
    "        \n",
    "        return new_data\n",
    "    \n",
    "    def fit_transform(self, X, y):\n",
    "        self.fit(X,y)\n",
    "        return self.transform(X)"
   ]
  },
  {
   "cell_type": "markdown",
   "metadata": {},
   "source": [
    "### Definition of Mini-Batch Kernel PCA Transformer\n",
    "Transformer that applies Kernel PCA transformation on a randomly sampled data mini-batch (due to high memory requirements)."
   ]
  },
  {
   "cell_type": "code",
   "execution_count": 4,
   "metadata": {
    "collapsed": true
   },
   "outputs": [],
   "source": [
    "# Due to high memory requirements - we cannot process the whole dataset with kPCA - we need to sample a random batch!!!\n",
    "\n",
    "# SKLEARN Compatible Transformer - supports fit method (finding kPCA) and transform method (applying kPCA)\n",
    "class myKernelPCA(BaseEstimator, TransformerMixin):\n",
    "    \n",
    "    # Transformer initialization (default to 250 dimensions)\n",
    "    def __init__(self, n_kPCA=40, kernel = 'laplacian', degree=3, whiten=True, debug=False):\n",
    "        self.n_kPCA    = n_kPCA # number of kernel PCA dimensions to be retained\n",
    "        self.kernel    = kernel # kernel type (rbf, poly, cosine)\n",
    "        self.degree    = degree # poly kernel degree\n",
    "        self.whiten    = whiten and (kernel!='laplacian') and (kernel!='rbf')\n",
    "        self.debug     = debug  # debug flag\n",
    "        self.max_smpls = 250    # max number of samples per digit\n",
    "    \n",
    "    # Clusters each digit and finds cluster centers:\n",
    "    def fit(self, X, y):\n",
    "        \n",
    "        self.kPCA = KernelPCA(n_components=self.n_kPCA,kernel=self.kernel,degree=self.degree,copy_X=False,remove_zero_eig=True,random_state=1389)\n",
    "        \n",
    "        if self.debug:\n",
    "            print('Fitting Kernel PCA !!!')\n",
    "            t = time.time()\n",
    "        \n",
    "        # If we have less than max number of smpls - fit regular kPCA\n",
    "        if X.shape[0]<(self.max_smpls*10):\n",
    "            self.kPCA.fit(X)\n",
    "            # If required - whiten the data (for clustering)\n",
    "            if self.whiten:\n",
    "                self.scaler = StandardScaler().fit(self.kPCA.transform(X))\n",
    "        \n",
    "        # Else randomly pick max number of smpls for each digit and fit\n",
    "        else:\n",
    "            # Fix the random seed (for repeatable results)\n",
    "            prng = np.random.RandomState()\n",
    "            prng.seed(654)\n",
    "            # Check how many smps are available per digit\n",
    "            l = []\n",
    "            for dig in range(10):\n",
    "                l.append(min(self.max_smpls,sum(y==dig)))\n",
    "            # Preallocate memory\n",
    "            new_data = np.empty((sum(l),X.shape[1]))\n",
    "            # Fill with randomly drawn smpls\n",
    "            st = 0\n",
    "            for dig in range(10):\n",
    "                en = st+l[dig]\n",
    "                data  = X[y==dig]\n",
    "                smpls = prng.choice(data.shape[0],l[dig],replace=False)\n",
    "                new_data[st:en,] = data[smpls,]\n",
    "                st = en\n",
    "            # Fit KernelPCA to new_data\n",
    "            self.kPCA.fit(new_data)\n",
    "            # If required - whiten the data (for clustering)\n",
    "            if self.whiten:\n",
    "                self.scaler = StandardScaler().fit(self.kPCA.transform(new_data))\n",
    "            # Release old vars, and collect garbage\n",
    "            del data, smpls, new_data\n",
    "            gc.collect()\n",
    "            \n",
    "        if self.debug:\n",
    "            print('Kernel PCA fitted in: ',(time.time()-t))\n",
    "        \n",
    "        return self\n",
    "    \n",
    "    # Clculate Kernel Components based on obtained model\n",
    "    def transform(self, X, y=None):\n",
    "        \n",
    "        if self.debug:\n",
    "            print('Applying Kernel PCA transformation!!! (data', X.shape,')')\n",
    "            t = time.time()\n",
    "        # Preallocate memory:\n",
    "        new_data = np.empty((X.shape[0],self.kPCA.lambdas_.shape[0]))\n",
    "        st = 0\n",
    "        ch = 200\n",
    "        ns = X.shape[0]\n",
    "        # Transform data in chunks of 200 smpls (memory hungry transformation)\n",
    "        while st<ns:\n",
    "            en = min(st+ch,ns)\n",
    "            new_data[st:en,:] = self.kPCA.transform(X[st:en,:])\n",
    "            st = en\n",
    "        \n",
    "        if self.whiten:\n",
    "            new_data = self.scaler.transform(new_data)\n",
    "                \n",
    "        if self.debug:\n",
    "            print('Kernel PCA transformed in: ',time.time()-t)\n",
    "        \n",
    "        return new_data\n",
    "    \n",
    "    def fit_transform(self, X, y):\n",
    "        self.fit(X,y)\n",
    "        return self.transform(X)"
   ]
  },
  {
   "cell_type": "markdown",
   "metadata": {},
   "source": [
    "### Definition of RBF Transformer (sklearn compatible object):\n",
    "Transformer that applies RBF transformation, by first finding the required RBF centers, and then calculating the distance-based activation."
   ]
  },
  {
   "cell_type": "code",
   "execution_count": 5,
   "metadata": {
    "collapsed": true
   },
   "outputs": [],
   "source": [
    "# SKLEARN Compatible Transformer - supports fit method (custering data) and transform method (calculating fi values)\n",
    "class myRBFtransformer(BaseEstimator, TransformerMixin):\n",
    "    \n",
    "    # Transformer initialization (default to 50 kMeans clusters)\n",
    "    def __init__(self, n_centers=250, rn_ratio=0.1, cl_ratio=1.0, debug=False):\n",
    "        self.n_centers = n_centers              # number of data centers to be formed per digit\n",
    "        self.rn_ratio  = min(1,max(0,rn_ratio)) # random  ratio (between Random Selection and Clustering)\n",
    "        self.cl_ratio  = min(1,max(0,cl_ratio)) # cluster ratio (between kMeans and Agglomerative)\n",
    "        self.debug     = debug                  # debug flag\n",
    "        if self.debug:\n",
    "            print(self.n_centers,self.cl_ratio)\n",
    "    \n",
    "    # Function for data clustering, and computation of cluster center vectors and inv. sq. deviation vectors\n",
    "    @staticmethod\n",
    "    def form_clusters(data, n_kmeans, n_agglo, n_random, dig):\n",
    "\n",
    "        n_km = min(n_kmeans,data.shape[0])\n",
    "        n_ag = min(n_agglo ,data.shape[0])\n",
    "        n_rn = min(n_random,data.shape[0])\n",
    "\n",
    "        lbls_set = []\n",
    "\n",
    "        if n_km>0:\n",
    "            kmeans = KMeans(n_clusters=n_km, random_state=0, init='k-means++', algorithm='elkan')\n",
    "            lbls_kmeans = kmeans.fit_predict(data)\n",
    "            lbls_set.append(lbls_kmeans)\n",
    "\n",
    "        if n_ag>0:\n",
    "            #agglo  = SpectralClustering(n_clusters=n_ag, affinity='nearest_neighbors',eigen_solver='arpack',random_state=456,assign_labels='discretize')\n",
    "            agglo  = SpectralClustering(n_clusters=n_ag, affinity='sigmoid',eigen_solver='arpack',random_state=456,assign_labels='discretize')\n",
    "            lbls_agglo  = agglo.fit_predict(data)\n",
    "            lbls_set.append(lbls_agglo)\n",
    "\n",
    "        centers     = []\n",
    "\n",
    "        # Find cluster centers and covar matrix:\n",
    "        for lbls in lbls_set:\n",
    "            for k in range(max(lbls)+1):\n",
    "                cluster = data[lbls==k,:]\n",
    "                centers.append(cluster.mean(axis=0))\n",
    "\n",
    "            del cluster\n",
    "\n",
    "        # Add random points as centers:\n",
    "        if n_rn>0:\n",
    "            # seed a new random generator (to get repeatable results for hyperparam tuning)\n",
    "            prng = np.random.RandomState()\n",
    "            prng.seed(dig*n_rn)\n",
    "            smpls = prng.choice(data.shape[0],n_rn,replace=False)\n",
    "            for s in smpls:\n",
    "                centers.append(data[s,:])\n",
    "\n",
    "        return centers;\n",
    "    \n",
    "    # Clusters each digit and finds cluster centers:\n",
    "    def fit(self, X, y):\n",
    "        \n",
    "        self.centers     = [] # list of cluster center vectors\n",
    "        self.num_centers = [] # list of number of centers per digit\n",
    "        \n",
    "        # Calc. num. of clusters per digit based on assigned ratio (ratio*(num of smpls / 10))\n",
    "        n_random   = round(self.rn_ratio*self.n_centers)\n",
    "        n_clusters = self.n_centers - n_random\n",
    "        n_kmeans   = round(self.cl_ratio*n_clusters)\n",
    "        n_agglo    = n_clusters - n_kmeans\n",
    "        \n",
    "        if self.debug:\n",
    "            print('Clustering data ',(n_kmeans,n_agglo))\n",
    "            t = time.time()\n",
    "        \n",
    "        # Cluster the data over each digit\n",
    "        for dig in range(10):\n",
    "            # print('Clustering digit: ',dig)\n",
    "            data = X[y==dig,:]\n",
    "            centers = myRBFtransformer.form_clusters(data, n_kmeans, n_agglo, n_random, dig)\n",
    "            self.centers.extend(centers)\n",
    "            self.num_centers.append(len(centers))\n",
    "            \n",
    "        if self.debug:\n",
    "            print('Clustering time: ',(time.time()-t))\n",
    "        \n",
    "        del data, centers\n",
    "        gc.collect()\n",
    "        \n",
    "        return self\n",
    "    \n",
    "    # Function to compute whole Fi output for given dataset (for all RBF centers)\n",
    "    @staticmethod\n",
    "    def fi_transform(data, all_centers):\n",
    "        # data        - given dataset matrix for which to compute fi values\n",
    "        # center      - list of all center vectors on which to compute fi vals\n",
    "\n",
    "        new_data = np.empty((data.shape[0],len(all_centers)))\n",
    "        st = 0\n",
    "        ch = 200\n",
    "        ns = data.shape[0]\n",
    "        # Process data in chunks of 200 smpls (optimal speed)\n",
    "        while st<ns:\n",
    "            en = min(st+ch,ns)\n",
    "            for k in range(len(all_centers)):\n",
    "                # # SAME DEVIATION for ALL DIMENSIONS (better much better than cluster separate):\n",
    "                new_data[st:en,k] = (np.square(data[st:en] - np.repeat(all_centers[k][np.newaxis,:],en-st,axis=0))).mean(axis=1)\n",
    "            new_data[st:en,:] = np.exp(-np.sqrt(new_data[st:en,:]))\n",
    "            st = en\n",
    "            gc.collect()\n",
    "        return new_data\n",
    "    \n",
    "    # Computes fi values (with Gaussian function) based on obtained data centers\n",
    "    def transform(self, X, y=None):\n",
    "        \n",
    "        # Compute all Fi values:\n",
    "        if self.debug:\n",
    "            print('Calculating all Fi outputs !!! (data', X.shape,')')\n",
    "            t = time.time()\n",
    "        all_fis = myRBFtransformer.fi_transform(X, self.centers)\n",
    "        \n",
    "        if self.debug:\n",
    "            print('Fi calculation time: ',time.time()-t)\n",
    "        \n",
    "        return all_fis\n",
    "    \n",
    "    def fit_transform(self, X, y):\n",
    "        self.fit(X,y)\n",
    "        return self.transform(X)"
   ]
  },
  {
   "cell_type": "markdown",
   "metadata": {},
   "source": [
    "## 3) Layer Linking (pipeline):\n",
    "Merging all layers in a single model."
   ]
  },
  {
   "cell_type": "code",
   "execution_count": 6,
   "metadata": {
    "collapsed": true
   },
   "outputs": [],
   "source": [
    "n_kPCA    = 40\n",
    "kernel    = 'laplacian'\n",
    "n_centers = 50\n",
    "# n_centers = 250\n",
    "rn_ratio  = 0.5\n",
    "cl_ratio  = 1.0\n",
    "epochs    = 75\n",
    "C         = 1e6\n",
    "tol       = 1e-6\n",
    "debug     = False\n",
    "\n",
    "dskw    = myDeskewer(debug=debug)\n",
    "scaler  = StandardScaler()\n",
    "pca     = myKernelPCA(kernel=kernel,n_kPCA=n_kPCA,debug=debug)\n",
    "rbf     = myRBFtransformer(n_centers=n_centers,rn_ratio=rn_ratio,cl_ratio=cl_ratio, debug=debug)\n",
    "# scaler2 = StandardScaler()\n",
    "# clsf    = MLPClassifier(hidden_layer_sizes=(1000,), random_state=1, batch_size=512 , max_iter=epochs, tol=-1)\n",
    "# clsf    = LogisticRegression(tol=tol,C=C,random_state=12,solver='newton-cg',multi_class='multinomial',max_iter=100)\n",
    "clsf    = LogisticRegression(tol=tol,C=C,random_state=12,solver='liblinear')"
   ]
  },
  {
   "cell_type": "code",
   "execution_count": 7,
   "metadata": {
    "collapsed": true
   },
   "outputs": [],
   "source": [
    "# pipe = Pipeline(steps=[('dskw',dskw),('scal', scaler),('pca', pca),('rbf',rbf),('scal2', scaler2),('clsf',clsf)])\n",
    "pipe = Pipeline(steps=[('scal', scaler),('rbf',rbf),('clsf',clsf)])"
   ]
  },
  {
   "cell_type": "markdown",
   "metadata": {},
   "source": [
    "## 4) Model Fitting:"
   ]
  },
  {
   "cell_type": "code",
   "execution_count": 8,
   "metadata": {},
   "outputs": [
    {
     "name": "stdout",
     "output_type": "stream",
     "text": [
      "2706.731872320175\n"
     ]
    }
   ],
   "source": [
    "# Fitting the model to training data:\n",
    "\n",
    "t = time.time()\n",
    "pipe.fit(data,lbls)\n",
    "print(time.time()-t)"
   ]
  },
  {
   "cell_type": "code",
   "execution_count": 9,
   "metadata": {
    "collapsed": true
   },
   "outputs": [],
   "source": [
    "# Predicting the test data:\n",
    "\n",
    "pred_test_lbls = pipe.predict(test_data)"
   ]
  },
  {
   "cell_type": "code",
   "execution_count": 10,
   "metadata": {},
   "outputs": [
    {
     "name": "stdout",
     "output_type": "stream",
     "text": [
      "             precision    recall  f1-score   support\n",
      "\n",
      "    digit 0       0.97      0.98      0.98       980\n",
      "    digit 1       0.99      0.99      0.99      1135\n",
      "    digit 2       0.94      0.94      0.94      1032\n",
      "    digit 3       0.95      0.94      0.94      1010\n",
      "    digit 4       0.95      0.95      0.95       982\n",
      "    digit 5       0.94      0.93      0.93       892\n",
      "    digit 6       0.96      0.96      0.96       958\n",
      "    digit 7       0.93      0.95      0.94      1028\n",
      "    digit 8       0.92      0.94      0.93       974\n",
      "    digit 9       0.94      0.92      0.93      1009\n",
      "\n",
      "avg / total       0.95      0.95      0.95     10000\n",
      "\n"
     ]
    }
   ],
   "source": [
    "# Printing the Classification Report:\n",
    "\n",
    "target_names = ['digit 0','digit 1','digit 2','digit 3','digit 4','digit 5','digit 6','digit 7','digit 8','digit 9']\n",
    "print(classification_report(test_lbls, pred_test_lbls, target_names=target_names))"
   ]
  },
  {
   "cell_type": "code",
   "execution_count": 11,
   "metadata": {},
   "outputs": [
    {
     "name": "stdout",
     "output_type": "stream",
     "text": [
      "94.98\n"
     ]
    }
   ],
   "source": [
    "# Print the final score:\n",
    "\n",
    "print(pipe.score(test_data,test_lbls)*100)"
   ]
  }
 ],
 "metadata": {
  "kernelspec": {
   "display_name": "Python 3",
   "language": "python",
   "name": "python3"
  },
  "language_info": {
   "codemirror_mode": {
    "name": "ipython",
    "version": 3
   },
   "file_extension": ".py",
   "mimetype": "text/x-python",
   "name": "python",
   "nbconvert_exporter": "python",
   "pygments_lexer": "ipython3",
   "version": "3.6.1"
  }
 },
 "nbformat": 4,
 "nbformat_minor": 2
}
