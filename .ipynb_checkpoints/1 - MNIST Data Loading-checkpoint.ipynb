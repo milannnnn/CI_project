{
 "cells": [
  {
   "cell_type": "markdown",
   "metadata": {},
   "source": [
    "# MNIST Dataset Loading\n",
    "\n",
    "This script downloads, unpacks, merges and saves MNIST datasets (both train and test)"
   ]
  },
  {
   "cell_type": "markdown",
   "metadata": {},
   "source": [
    "## 0) Initialization"
   ]
  },
  {
   "cell_type": "code",
   "execution_count": 21,
   "metadata": {
    "collapsed": true
   },
   "outputs": [],
   "source": [
    "# Import the required modules:\n",
    "import gzip\n",
    "import shutil\n",
    "import os\n",
    "import numpy as np\n",
    "from urllib.request import urlretrieve\n",
    "from mnist import MNIST\n",
    "\n",
    "# Define MNIST path:\n",
    "MNIST_folder = '../../Data/MNIST/'\n"
   ]
  },
  {
   "cell_type": "markdown",
   "metadata": {},
   "source": [
    "## 1) Download and Unpack Data"
   ]
  },
  {
   "cell_type": "code",
   "execution_count": 22,
   "metadata": {},
   "outputs": [],
   "source": [
    "### Defining reqired functions:\n",
    "\n",
    "# downloadData() - downloads a file and saves it to desired path\n",
    "def downloadData(file_url, gz_file_name):\n",
    "    print ('Downloading ' + file_url)\n",
    "    gzfname, h = urlretrieve(file_url, MNIST_folder+gz_file_name)\n",
    "    return\n",
    "\n",
    "# unpackData()   - unpacks a gz file and deletes the gz after\n",
    "def unpackData(gz_file_name, file_name):\n",
    "    print ('Unpacking ' + gz_file_name)\n",
    "    with gzip.open(MNIST_folder+gz_file_name, 'rb') as f_in, open(MNIST_folder+file_name, 'wb') as f_out:\n",
    "        shutil.copyfileobj(f_in, f_out)\n",
    "    os.remove(MNIST_folder+gz_file_name)\n",
    "    return"
   ]
  },
  {
   "cell_type": "code",
   "execution_count": 23,
   "metadata": {},
   "outputs": [
    {
     "name": "stdout",
     "output_type": "stream",
     "text": [
      "Downloading http://yann.lecun.com/exdb/mnist/train-images-idx3-ubyte.gz\n",
      "Unpacking train-images-idx3-ubyte.gz\n",
      "Downloading http://yann.lecun.com/exdb/mnist/train-labels-idx1-ubyte.gz\n",
      "Unpacking train-labels-idx1-ubyte.gz\n",
      "Downloading http://yann.lecun.com/exdb/mnist/t10k-images-idx3-ubyte.gz\n",
      "Unpacking t10k-images-idx3-ubyte.gz\n",
      "Downloading http://yann.lecun.com/exdb/mnist/t10k-labels-idx1-ubyte.gz\n",
      "Unpacking t10k-labels-idx1-ubyte.gz\n"
     ]
    }
   ],
   "source": [
    "### Download and unpack MNIST dataset files\n",
    "\n",
    "# Define filenames and urls:\n",
    "\n",
    "gznames = ['train-images-idx3-ubyte.gz',\n",
    "           'train-labels-idx1-ubyte.gz',\n",
    "           't10k-images-idx3-ubyte.gz',\n",
    "           't10k-labels-idx1-ubyte.gz']\n",
    "\n",
    "names   = ['train-images-idx3-ubyte',\n",
    "          'train-labels-idx1-ubyte',\n",
    "          't10k-images-idx3-ubyte',\n",
    "          't10k-labels-idx1-ubyte']\n",
    "\n",
    "urls    = ['http://yann.lecun.com/exdb/mnist/train-images-idx3-ubyte.gz',\n",
    "           'http://yann.lecun.com/exdb/mnist/train-labels-idx1-ubyte.gz',\n",
    "           'http://yann.lecun.com/exdb/mnist/t10k-images-idx3-ubyte.gz',\n",
    "           'http://yann.lecun.com/exdb/mnist/t10k-labels-idx1-ubyte.gz']\n",
    "\n",
    "for x in range(0, 4):\n",
    "    downloadData(urls[x],gznames[x])\n",
    "    unpackData(gznames[x],names[x])"
   ]
  },
  {
   "cell_type": "markdown",
   "metadata": {
    "collapsed": true
   },
   "source": [
    "## 2) Data Loading Examples\n",
    "\n",
    "MNIST module automatically reads images and labels (into list and arrays), and checks data validity (magic number signature).\n",
    "\n",
    "    - images -> list of image (image -> list of unsigned bytes)\n",
    "    - labels -> array of unsigned bytes"
   ]
  },
  {
   "cell_type": "code",
   "execution_count": 24,
   "metadata": {},
   "outputs": [],
   "source": [
    "# MNIST module checks the data validity (magic number) and reads it\n",
    "\n",
    "mndata = MNIST(MNIST_folder)\n",
    "\n",
    "train_images, train_labels = mndata.load_training()\n",
    "test_images,  test_labels  = mndata.load_testing()"
   ]
  },
  {
   "cell_type": "code",
   "execution_count": 32,
   "metadata": {},
   "outputs": [
    {
     "data": {
      "text/plain": [
       "numpy.ndarray"
      ]
     },
     "execution_count": 32,
     "metadata": {},
     "output_type": "execute_result"
    }
   ],
   "source": [
    "# Convert to numpy arrays:\n",
    "train_imgs = np.array(train_images)\n",
    "train_lbls = np.array(train_labels)\n",
    "test_imgs = np.array(test_images)\n",
    "test_lbls = np.array(test_labels)\n",
    "\n",
    "# # Clear regular arrays:\n",
    "# train_images = None\n",
    "# train_labels = None\n",
    "# test_images  = None\n",
    "# test_labels  = None\n"
   ]
  },
  {
   "cell_type": "code",
   "execution_count": 31,
   "metadata": {},
   "outputs": [
    {
     "data": {
      "text/plain": [
       "80.879770408163267"
      ]
     },
     "execution_count": 31,
     "metadata": {},
     "output_type": "execute_result"
    }
   ],
   "source": [
    "# Sparsity check (80% are white pixels -> makes sense to use SPARSE matrices)\n",
    "\n",
    "sum(sum(train_imgs==0))/(len(train_imgs)*784)*100\n"
   ]
  },
  {
   "cell_type": "code",
   "execution_count": 51,
   "metadata": {},
   "outputs": [
    {
     "data": {
      "text/plain": [
       "254"
      ]
     },
     "execution_count": 51,
     "metadata": {},
     "output_type": "execute_result"
    }
   ],
   "source": [
    "# Checking contrast scale (254-255) - almost perfect\n",
    "\n",
    "myMin = 255\n",
    "\n",
    "for k in range(0,len(train_imgs)):\n",
    "    if(np.max(train_imgs[k])<255):\n",
    "        #print(k)\n",
    "        if(np.max(train_imgs[k])<myMin):\n",
    "            myMin = np.max(train_imgs[k])\n",
    "            \n",
    "myMin\n"
   ]
  },
  {
   "cell_type": "code",
   "execution_count": null,
   "metadata": {},
   "outputs": [],
   "source": []
  }
 ],
 "metadata": {
  "kernelspec": {
   "display_name": "Python 3",
   "language": "python",
   "name": "python3"
  },
  "language_info": {
   "codemirror_mode": {
    "name": "ipython",
    "version": 3
   },
   "file_extension": ".py",
   "mimetype": "text/x-python",
   "name": "python",
   "nbconvert_exporter": "python",
   "pygments_lexer": "ipython3",
   "version": "3.6.1"
  }
 },
 "nbformat": 4,
 "nbformat_minor": 2
}
