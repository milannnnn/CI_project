{
 "cells": [
  {
   "cell_type": "code",
   "execution_count": null,
   "metadata": {
    "collapsed": true
   },
   "outputs": [],
   "source": [
    "# https://github.com/scikit-learn-contrib/hdbscan\n",
    "# http://hdbscan.readthedocs.io/en/latest/basic_hdbscan.html\n",
    "# http://hdbscan.readthedocs.io/en/latest/parameter_selection.html\n",
    "\n"
   ]
  },
  {
   "cell_type": "code",
   "execution_count": 3,
   "metadata": {
    "collapsed": true
   },
   "outputs": [],
   "source": [
    "# Import the required modules:\n",
    "import numpy as np\n",
    "import hdbscan\n",
    "\n",
    "# Define folder paths:\n",
    "DATA_folder  = '../../Data/'\n",
    "CLUSTER_folder = DATA_folder+'Clusters/'"
   ]
  },
  {
   "cell_type": "code",
   "execution_count": null,
   "metadata": {
    "collapsed": true
   },
   "outputs": [],
   "source": [
    "k = 3\n",
    "\n",
    "data = np.load(CLUSTER_folder+'train_'+str(k)+'.npy')\n",
    "\n",
    "cov_mat = np.cov(np.transpose(data))\n",
    "\n",
    "unrel_features = []\n",
    "\n",
    "for k in range(0,len(cov_mat)):\n",
    "    if cov_mat[k][k]==0:\n",
    "        unrel_features.append(k)\n",
    "\n",
    "# print(rel_features)\n",
    "\n",
    "new_data = np.delete(data,unrel_features,axis=1)\n",
    "new_cov_mat = np.cov(np.transpose(new_data))\n",
    "\n",
    "for k in range(0,len(new_cov_mat)):\n",
    "    if new_cov_mat[k][k]==0:\n",
    "        print(k)\n",
    "\n",
    "# clusterer = hdbscan.HDBSCAN(min_cluster_size=25,metric='mahalanobis', V = new_cov_mat)\n",
    "# clusterer = hdbscan.HDBSCAN(min_cluster_size=2,min_samples=2,alpha=1.0)\n",
    "# clusterer = hdbscan.HDBSCAN(min_cluster_size=3,min_samples=1,cluster_selection_method='leaf')\n",
    "clusterer = hdbscan.HDBSCAN(min_cluster_size=3,min_samples=2)\n",
    "cluster_labels = clusterer.fit_predict(new_data)\n",
    "# cluster_labels = clusterer.fit_predict(data)\n",
    "\n",
    "print(max(cluster_labels))\n",
    "print(sum(cluster_labels==-1))"
   ]
  },
  {
   "cell_type": "code",
   "execution_count": null,
   "metadata": {
    "collapsed": true
   },
   "outputs": [],
   "source": []
  },
  {
   "cell_type": "code",
   "execution_count": 18,
   "metadata": {
    "collapsed": true
   },
   "outputs": [],
   "source": [
    "lbls_found = np.zeros((10,11,11))\n",
    "noise      = np.zeros((10,11,11))\n",
    "\n",
    "for k in range(0,10):\n",
    "    \n",
    "    data = np.load(CLUSTER_folder+'train_'+str(k)+'.npy')\n",
    "    \n",
    "    for c in range(2,11):\n",
    "        for s in range(1,c+1):\n",
    "            clusterer = hdbscan.HDBSCAN(min_cluster_size=c,min_samples=s)\n",
    "            cluster_labels = clusterer.fit_predict(data)\n",
    "            lbls_found[k,c,s] = max(cluster_labels)\n",
    "            noise[k,c,s]      = sum(cluster_labels==-1)"
   ]
  },
  {
   "cell_type": "code",
   "execution_count": 7,
   "metadata": {},
   "outputs": [
    {
     "name": "stdout",
     "output_type": "stream",
     "text": [
      "clusters:  1070.0  \t noise:  2994.0\n",
      "clusters:  1070.0  \t noise:  2994.0\n",
      "clusters:  20.0  \t noise:  398.0\n",
      "clusters:  20.0  \t noise:  398.0\n",
      "clusters:  3.0  \t noise:  181.0\n",
      "clusters:  2.0  \t noise:  33.0\n",
      "clusters:  2.0  \t noise:  33.0\n",
      "clusters:  1.0  \t noise:  61.0\n",
      "clusters:  2.0  \t noise:  216.0\n",
      "clusters:  3.0  \t noise:  126.0\n",
      "clusters:  3.0  \t noise:  126.0\n",
      "clusters:  1.0  \t noise:  61.0\n",
      "clusters:  3.0  \t noise:  698.0\n",
      "clusters:  2.0  \t noise:  758.0\n",
      "clusters:  1.0  \t noise:  37.0\n",
      "clusters:  1.0  \t noise:  37.0\n",
      "clusters:  2.0  \t noise:  184.0\n",
      "clusters:  3.0  \t noise:  698.0\n",
      "clusters:  2.0  \t noise:  758.0\n",
      "clusters:  1.0  \t noise:  2646.0\n",
      "clusters:  1.0  \t noise:  37.0\n",
      "clusters:  1.0  \t noise:  37.0\n",
      "clusters:  1.0  \t noise:  190.0\n",
      "clusters:  1.0  \t noise:  222.0\n",
      "clusters:  1.0  \t noise:  3419.0\n",
      "clusters:  2.0  \t noise:  4839.0\n",
      "clusters:  1.0  \t noise:  4711.0\n",
      "clusters:  2.0  \t noise:  131.0\n",
      "clusters:  2.0  \t noise:  131.0\n",
      "clusters:  2.0  \t noise:  589.0\n",
      "clusters:  1.0  \t noise:  3551.0\n",
      "clusters:  1.0  \t noise:  3419.0\n",
      "clusters:  2.0  \t noise:  4839.0\n",
      "clusters:  1.0  \t noise:  4711.0\n",
      "clusters:  1.0  \t noise:  4808.0\n",
      "clusters:  1.0  \t noise:  473.0\n",
      "clusters:  1.0  \t noise:  473.0\n",
      "clusters:  2.0  \t noise:  589.0\n",
      "clusters:  1.0  \t noise:  3551.0\n",
      "clusters:  2.0  \t noise:  4788.0\n",
      "clusters:  2.0  \t noise:  4839.0\n",
      "clusters:  1.0  \t noise:  4711.0\n",
      "clusters:  2.0  \t noise:  5811.0\n",
      "clusters:  2.0  \t noise:  5827.0\n",
      "clusters:  1.0  \t noise:  473.0\n",
      "clusters:  1.0  \t noise:  473.0\n",
      "clusters:  1.0  \t noise:  598.0\n",
      "clusters:  1.0  \t noise:  4691.0\n",
      "clusters:  2.0  \t noise:  4788.0\n",
      "clusters:  2.0  \t noise:  4839.0\n",
      "clusters:  1.0  \t noise:  4711.0\n",
      "clusters:  2.0  \t noise:  5811.0\n",
      "clusters:  2.0  \t noise:  5827.0\n",
      "clusters:  3.0  \t noise:  5815.0\n"
     ]
    }
   ],
   "source": [
    "# np.save('lbls_found.npy', lbls_found)\n",
    "# np.save('noise.npy', noise)\n",
    "\n",
    "lbls_found = np.load('lbls_found.npy')\n",
    "noise      = np.load('noise.npy')\n",
    "\n",
    "k = 9\n",
    "for c in range(2,11):\n",
    "    for s in range(1,c+1):\n",
    "        print('clusters: ',lbls_found[k,c,s],' \\t noise: ',noise[k,c,s])"
   ]
  },
  {
   "cell_type": "code",
   "execution_count": null,
   "metadata": {
    "collapsed": true
   },
   "outputs": [],
   "source": []
  },
  {
   "cell_type": "code",
   "execution_count": null,
   "metadata": {
    "collapsed": true
   },
   "outputs": [],
   "source": []
  },
  {
   "cell_type": "code",
   "execution_count": null,
   "metadata": {
    "collapsed": true
   },
   "outputs": [],
   "source": []
  },
  {
   "cell_type": "code",
   "execution_count": null,
   "metadata": {
    "collapsed": true
   },
   "outputs": [],
   "source": []
  },
  {
   "cell_type": "code",
   "execution_count": null,
   "metadata": {
    "collapsed": true
   },
   "outputs": [],
   "source": []
  },
  {
   "cell_type": "code",
   "execution_count": null,
   "metadata": {
    "collapsed": true
   },
   "outputs": [],
   "source": []
  }
 ],
 "metadata": {
  "kernelspec": {
   "display_name": "Python 3",
   "language": "python",
   "name": "python3"
  },
  "language_info": {
   "codemirror_mode": {
    "name": "ipython",
    "version": 3
   },
   "file_extension": ".py",
   "mimetype": "text/x-python",
   "name": "python",
   "nbconvert_exporter": "python",
   "pygments_lexer": "ipython3",
   "version": "3.6.1"
  }
 },
 "nbformat": 4,
 "nbformat_minor": 2
}
