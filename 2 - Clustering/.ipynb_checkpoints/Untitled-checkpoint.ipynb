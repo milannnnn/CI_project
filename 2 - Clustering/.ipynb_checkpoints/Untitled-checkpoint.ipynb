{
 "cells": [
  {
   "cell_type": "code",
   "execution_count": 1,
   "metadata": {
    "collapsed": true
   },
   "outputs": [],
   "source": [
    "# Import the required modules:\n",
    "import numpy as np\n",
    "import hdbscan\n",
    "\n",
    "# Define folder paths:\n",
    "DATA_folder  = '../../Data/'\n",
    "CLUSTER_folder = DATA_folder+'Clusters/'"
   ]
  },
  {
   "cell_type": "code",
   "execution_count": 2,
   "metadata": {
    "collapsed": true
   },
   "outputs": [],
   "source": [
    "hdbscan_params  = {}\n",
    "\n",
    "for k in range(0,10):\n",
    "    data = np.load(CLUSTER_folder+'train_'+str(k)+'.npy')\n",
    "    for c in range(2,11):\n",
    "        for s in [1,c]:\n",
    "            clusterer = hdbscan.HDBSCAN(min_cluster_size=c,min_samples=s)\n",
    "            cluster_labels = clusterer.fit_predict(data)\n",
    "            m = max(cluster_labels)\n",
    "            n = sum(cluster_labels==-1)\n",
    "            # hdbscan_params[('dig: '+str(k),'size: '+str(c),'smpl: '+str(s))] = ('clusters: '+str(m+1),'noise: '+str(n))\n",
    "            hdbscan_params[(k,c,s)] = {'clusters':m+1,'noise':n}\n",
    "        "
   ]
  },
  {
   "cell_type": "code",
   "execution_count": 3,
   "metadata": {
    "collapsed": true
   },
   "outputs": [],
   "source": [
    "# np.save(CLUSTER_folder+'hdbscan_params.npy',hdbscan_params)"
   ]
  },
  {
   "cell_type": "code",
   "execution_count": null,
   "metadata": {
    "collapsed": true
   },
   "outputs": [],
   "source": []
  },
  {
   "cell_type": "code",
   "execution_count": 4,
   "metadata": {
    "collapsed": true
   },
   "outputs": [],
   "source": [
    "# b = np.load(CLUSTER_folder+'hdbscan_params.npy').item()\n",
    "# print(b)"
   ]
  },
  {
   "cell_type": "code",
   "execution_count": null,
   "metadata": {
    "collapsed": true
   },
   "outputs": [],
   "source": []
  }
 ],
 "metadata": {
  "kernelspec": {
   "display_name": "Python 3",
   "language": "python",
   "name": "python3"
  },
  "language_info": {
   "codemirror_mode": {
    "name": "ipython",
    "version": 3
   },
   "file_extension": ".py",
   "mimetype": "text/x-python",
   "name": "python",
   "nbconvert_exporter": "python",
   "pygments_lexer": "ipython3",
   "version": "3.6.1"
  }
 },
 "nbformat": 4,
 "nbformat_minor": 2
}
