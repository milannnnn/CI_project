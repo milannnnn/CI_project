{
 "cells": [
  {
   "cell_type": "code",
   "execution_count": null,
   "metadata": {
    "collapsed": true
   },
   "outputs": [],
   "source": [
    "# https://github.com/scikit-learn-contrib/hdbscan\n",
    "# http://hdbscan.readthedocs.io/en/latest/basic_hdbscan.html\n",
    "# http://hdbscan.readthedocs.io/en/latest/parameter_selection.html\n",
    "\n"
   ]
  },
  {
   "cell_type": "code",
   "execution_count": 1,
   "metadata": {
    "collapsed": true
   },
   "outputs": [],
   "source": [
    "# Import the required modules:\n",
    "import numpy as np\n",
    "import hdbscan\n",
    "\n",
    "# Define folder paths:\n",
    "DATA_folder  = '../../Data/'\n",
    "CLUSTER_folder = DATA_folder+'Clusters/'\n"
   ]
  },
  {
   "cell_type": "code",
   "execution_count": null,
   "metadata": {},
   "outputs": [],
   "source": [
    "from sklearn.decomposition import PCA\n",
    "\n",
    "train_imgs = np.load(CLUSTER_folder+'train_tot.npy')\n",
    "\n",
    "pca = PCA(n_components=630)\n",
    "pca.fit(train_imgs)\n"
   ]
  },
  {
   "cell_type": "code",
   "execution_count": null,
   "metadata": {},
   "outputs": [],
   "source": [
    "k = 3\n",
    "\n",
    "data = np.load(CLUSTER_folder+'train_'+str(k)+'.npy')\n",
    "\n",
    "from sklearn import manifold\n",
    "\n",
    "tsne = manifold.TSNE(n_components = 3,init='random',random_state=0, perplexity=20)\n",
    "# kpca = KernelPCA(kernel=\"cosine\", n_components = 100)\n",
    "new_data = tsne.fit_transform(data)\n"
   ]
  },
  {
   "cell_type": "code",
   "execution_count": null,
   "metadata": {
    "collapsed": true
   },
   "outputs": [],
   "source": [
    "# # 2D tSNE:\n",
    "# import matplotlib.pyplot as plt\n",
    "# plt.scatter(new_data[:,0], new_data[:,1], c='red')\n",
    "# plt.legend()\n",
    "# plt.show()\n",
    "\n",
    "# # 3D tSNE:\n",
    "import matplotlib.pyplot as plt\n",
    "from mpl_toolkits.mplot3d import Axes3D\n",
    "fig = plt.figure()\n",
    "ax = ax = Axes3D(fig)\n",
    "\n",
    "ax.scatter(new_data[:,0], new_data[:,1], new_data[:,2], c='r')\n",
    "plt.legend()\n",
    "plt.show()"
   ]
  },
  {
   "cell_type": "code",
   "execution_count": 8,
   "metadata": {},
   "outputs": [],
   "source": [
    "k = 3\n",
    "data = np.load(CLUSTER_folder+'train_'+str(k)+'.npy')\n",
    "\n",
    "from sklearn.decomposition import KernelPCA\n",
    "kpca = KernelPCA(kernel=\"rbf\",n_components=20)\n",
    "\n",
    "new_data = kpca.fit_transform(data)\n"
   ]
  },
  {
   "cell_type": "code",
   "execution_count": 9,
   "metadata": {},
   "outputs": [
    {
     "data": {
      "text/plain": [
       "(6131, 20)"
      ]
     },
     "execution_count": 9,
     "metadata": {},
     "output_type": "execute_result"
    }
   ],
   "source": [
    "new_data.shape"
   ]
  },
  {
   "cell_type": "code",
   "execution_count": 17,
   "metadata": {},
   "outputs": [
    {
     "name": "stdout",
     "output_type": "stream",
     "text": [
      "2\n",
      "3231\n"
     ]
    }
   ],
   "source": [
    "# clusterer = hdbscan.HDBSCAN(min_cluster_size=25,metric='mahalanobis', V = new_cov_mat)\n",
    "clusterer = hdbscan.HDBSCAN(min_cluster_size=5)\n",
    "# clusterer = hdbscan.HDBSCAN(min_cluster_size=3,min_samples=1,cluster_selection_method='leaf')\n",
    "# clusterer = hdbscan.HDBSCAN(min_cluster_size=3,min_samples=2)\n",
    "cluster_labels = clusterer.fit_predict(new_data)\n",
    "# cluster_labels = clusterer.fit_predict(data)\n",
    "\n",
    "print(max(cluster_labels)+1)\n",
    "print(sum(cluster_labels==-1))"
   ]
  },
  {
   "cell_type": "code",
   "execution_count": null,
   "metadata": {
    "collapsed": true
   },
   "outputs": [],
   "source": [
    "lbls_found = np.zeros((10,11,11))\n",
    "noise      = np.zeros((10,11,11))\n",
    "\n",
    "for k in range(0,10):\n",
    "    \n",
    "    data = np.load(CLUSTER_folder+'train_'+str(k)+'.npy')\n",
    "    \n",
    "    for c in range(2,11):\n",
    "        for s in range(1,c+1):\n",
    "            clusterer = hdbscan.HDBSCAN(min_cluster_size=c,min_samples=s)\n",
    "            cluster_labels = clusterer.fit_predict(data)\n",
    "            lbls_found[k,c,s] = max(cluster_labels)\n",
    "            noise[k,c,s]      = sum(cluster_labels==-1)"
   ]
  },
  {
   "cell_type": "code",
   "execution_count": null,
   "metadata": {},
   "outputs": [],
   "source": [
    "# np.save('lbls_found.npy', lbls_found)\n",
    "# np.save('noise.npy', noise)\n",
    "\n",
    "lbls_found = np.load('lbls_found.npy')\n",
    "noise      = np.load('noise.npy')\n",
    "\n",
    "k = 9\n",
    "for c in range(2,11):\n",
    "    for s in range(1,c+1):\n",
    "        print('clusters: ',lbls_found[k,c,s],' \\t noise: ',noise[k,c,s])"
   ]
  },
  {
   "cell_type": "code",
   "execution_count": null,
   "metadata": {
    "collapsed": true
   },
   "outputs": [],
   "source": []
  },
  {
   "cell_type": "code",
   "execution_count": null,
   "metadata": {
    "collapsed": true
   },
   "outputs": [],
   "source": []
  },
  {
   "cell_type": "code",
   "execution_count": null,
   "metadata": {
    "collapsed": true
   },
   "outputs": [],
   "source": []
  },
  {
   "cell_type": "code",
   "execution_count": null,
   "metadata": {
    "collapsed": true
   },
   "outputs": [],
   "source": []
  },
  {
   "cell_type": "code",
   "execution_count": null,
   "metadata": {
    "collapsed": true
   },
   "outputs": [],
   "source": []
  },
  {
   "cell_type": "code",
   "execution_count": null,
   "metadata": {
    "collapsed": true
   },
   "outputs": [],
   "source": []
  }
 ],
 "metadata": {
  "kernelspec": {
   "display_name": "Python 3",
   "language": "python",
   "name": "python3"
  },
  "language_info": {
   "codemirror_mode": {
    "name": "ipython",
    "version": 3
   },
   "file_extension": ".py",
   "mimetype": "text/x-python",
   "name": "python",
   "nbconvert_exporter": "python",
   "pygments_lexer": "ipython3",
   "version": "3.6.1"
  }
 },
 "nbformat": 4,
 "nbformat_minor": 2
}
