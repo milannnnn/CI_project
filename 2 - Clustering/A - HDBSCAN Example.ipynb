{
 "cells": [
  {
   "cell_type": "code",
   "execution_count": null,
   "metadata": {
    "collapsed": true
   },
   "outputs": [],
   "source": [
    "# https://github.com/scikit-learn-contrib/hdbscan\n",
    "# http://hdbscan.readthedocs.io/en/latest/basic_hdbscan.html\n",
    "# http://hdbscan.readthedocs.io/en/latest/parameter_selection.html\n",
    "\n"
   ]
  },
  {
   "cell_type": "code",
   "execution_count": null,
   "metadata": {
    "collapsed": true
   },
   "outputs": [],
   "source": [
    "# Import the required modules:\n",
    "import numpy as np\n",
    "import hdbscan\n",
    "\n",
    "# Define folder paths:\n",
    "DATA_folder  = '../../Data/'\n",
    "CLUSTER_folder = DATA_folder+'Clusters/'"
   ]
  },
  {
   "cell_type": "code",
   "execution_count": null,
   "metadata": {},
   "outputs": [],
   "source": [
    "k = 5\n",
    "\n",
    "data = np.load(CLUSTER_folder+'train_'+str(k)+'.npy')\n",
    "\n",
    "cov_mat = np.cov(np.transpose(data))\n",
    "\n",
    "# clusterer = hdbscan.HDBSCAN(min_cluster_size=10,metric='mahalanobis', V = cov_mat)\n",
    "# cluster_labels = clusterer.fit_predict(data)\n"
   ]
  },
  {
   "cell_type": "code",
   "execution_count": null,
   "metadata": {},
   "outputs": [],
   "source": [
    "set(cluster_labels)"
   ]
  },
  {
   "cell_type": "code",
   "execution_count": null,
   "metadata": {},
   "outputs": [],
   "source": [
    "cov_mat = np.cov(np.transpose(data))\n",
    "\n",
    "unrel_features = []\n",
    "\n",
    "for k in range(0,len(cov_mat)):\n",
    "    if cov_mat[k][k]==0:\n",
    "        unrel_features.append(k)\n",
    "\n",
    "# print(rel_features)\n",
    "\n",
    "new_data = np.delete(data,unrel_features,axis=1)\n",
    "new_cov_mat = np.cov(np.transpose(new_data))\n",
    "\n",
    "for k in range(0,len(new_cov_mat)):\n",
    "    if new_cov_mat[k][k]==0:\n",
    "        print(k)\n",
    "\n",
    "clusterer = hdbscan.HDBSCAN(min_cluster_size=10,metric='mahalanobis', V = new_cov_mat)\n",
    "cluster_labels = clusterer.fit_predict(new_data)"
   ]
  },
  {
   "cell_type": "code",
   "execution_count": null,
   "metadata": {},
   "outputs": [],
   "source": [
    "set(cluster_labels)"
   ]
  },
  {
   "cell_type": "code",
   "execution_count": null,
   "metadata": {},
   "outputs": [],
   "source": [
    "# import hdbscan\n",
    "# from sklearn.datasets import make_blobs\n",
    "\n",
    "# data, _ = make_blobs(n_samples = 6000, n_features=784, centers=15)\n",
    "\n",
    "# def plot_clusters(data, algorithm, args, kwds):\n",
    "#     start_time = time.time()\n",
    "#     labels = algorithm(*args, **kwds).fit_predict(data)\n",
    "#     end_time = time.time()\n",
    "#     palette = sns.color_palette('deep', np.unique(labels).max() + 1)\n",
    "#     colors = [palette[x] if x >= 0 else (0.0, 0.0, 0.0) for x in labels]\n",
    "#     plt.scatter(data.T[0], data.T[1], c=colors, **plot_kwds)\n",
    "#     frame = plt.gca()\n",
    "#     frame.axes.get_xaxis().set_visible(False)\n",
    "#     frame.axes.get_yaxis().set_visible(False)\n",
    "#     plt.title('Clusters found by {}'.format(str(algorithm.__name__)), fontsize=24)\n",
    "#     plt.text(-0.5, 0.7, 'Clustering took {:.2f} s'.format(end_time - start_time), fontsize=14)\n",
    "\n",
    "# plot_clusters(data, hdbscan.HDBSCAN, (), {'min_cluster_size':15})"
   ]
  },
  {
   "cell_type": "code",
   "execution_count": null,
   "metadata": {
    "collapsed": true
   },
   "outputs": [],
   "source": [
    "import hdbscan\n",
    "import numpy as np\n",
    "from sklearn.datasets import make_blobs\n",
    "\n",
    "data, _ = make_blobs(n_samples = 150, n_features=784, centers=15)\n",
    "\n",
    "clusterer = hdbscan.HDBSCAN(min_cluster_size=10)\n",
    "cluster_labels = clusterer.fit_predict(data)"
   ]
  },
  {
   "cell_type": "code",
   "execution_count": null,
   "metadata": {},
   "outputs": [],
   "source": [
    "max(cluster_labels)"
   ]
  },
  {
   "cell_type": "code",
   "execution_count": null,
   "metadata": {},
   "outputs": [],
   "source": [
    "np.size(data)"
   ]
  },
  {
   "cell_type": "code",
   "execution_count": null,
   "metadata": {},
   "outputs": [],
   "source": [
    "len(data[1])"
   ]
  }
 ],
 "metadata": {
  "kernelspec": {
   "display_name": "Python 3",
   "language": "python",
   "name": "python3"
  },
  "language_info": {
   "codemirror_mode": {
    "name": "ipython",
    "version": 3
   },
   "file_extension": ".py",
   "mimetype": "text/x-python",
   "name": "python",
   "nbconvert_exporter": "python",
   "pygments_lexer": "ipython3",
   "version": "3.6.1"
  }
 },
 "nbformat": 4,
 "nbformat_minor": 2
}
