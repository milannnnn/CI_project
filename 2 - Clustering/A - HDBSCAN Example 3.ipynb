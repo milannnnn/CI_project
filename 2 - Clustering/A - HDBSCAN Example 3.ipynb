{
 "cells": [
  {
   "cell_type": "code",
   "execution_count": null,
   "metadata": {
    "collapsed": true
   },
   "outputs": [],
   "source": [
    "# https://github.com/scikit-learn-contrib/hdbscan\n",
    "# http://hdbscan.readthedocs.io/en/latest/basic_hdbscan.html\n",
    "# http://hdbscan.readthedocs.io/en/latest/parameter_selection.html\n",
    "\n"
   ]
  },
  {
   "cell_type": "code",
   "execution_count": 1,
   "metadata": {
    "collapsed": true
   },
   "outputs": [],
   "source": [
    "# Import the required modules:\n",
    "import numpy as np\n",
    "import hdbscan\n",
    "\n",
    "# Define folder paths:\n",
    "DATA_folder  = '../../Data/'\n",
    "CLUSTER_folder = DATA_folder+'Clusters/'\n"
   ]
  },
  {
   "cell_type": "code",
   "execution_count": 3,
   "metadata": {},
   "outputs": [
    {
     "ename": "MemoryError",
     "evalue": "",
     "output_type": "error",
     "traceback": [
      "\u001b[1;31m---------------------------------------------------------------------------\u001b[0m",
      "\u001b[1;31mMemoryError\u001b[0m                               Traceback (most recent call last)",
      "\u001b[1;32m<ipython-input-3-7ba4bcc58909>\u001b[0m in \u001b[0;36m<module>\u001b[1;34m()\u001b[0m\n\u001b[0;32m      5\u001b[0m \u001b[1;33m\u001b[0m\u001b[0m\n\u001b[0;32m      6\u001b[0m \u001b[0mkpca\u001b[0m \u001b[1;33m=\u001b[0m \u001b[0mKernelPCA\u001b[0m\u001b[1;33m(\u001b[0m\u001b[0mn_components\u001b[0m\u001b[1;33m=\u001b[0m\u001b[1;36m50\u001b[0m\u001b[1;33m,\u001b[0m \u001b[0mkernel\u001b[0m\u001b[1;33m=\u001b[0m\u001b[1;34m'poly'\u001b[0m\u001b[1;33m,\u001b[0m \u001b[0mdegree\u001b[0m \u001b[1;33m=\u001b[0m \u001b[1;36m9\u001b[0m\u001b[1;33m,\u001b[0m \u001b[0mcopy_X\u001b[0m \u001b[1;33m=\u001b[0m \u001b[1;32mFalse\u001b[0m\u001b[1;33m)\u001b[0m\u001b[1;33m\u001b[0m\u001b[0m\n\u001b[1;32m----> 7\u001b[1;33m \u001b[0mkpca\u001b[0m\u001b[1;33m.\u001b[0m\u001b[0mfit\u001b[0m\u001b[1;33m(\u001b[0m\u001b[0mtrain_imgs\u001b[0m\u001b[1;33m)\u001b[0m\u001b[1;33m\u001b[0m\u001b[0m\n\u001b[0m\u001b[0;32m      8\u001b[0m \u001b[1;33m\u001b[0m\u001b[0m\n",
      "\u001b[1;32mC:\\ProgramData\\Anaconda3\\lib\\site-packages\\sklearn\\decomposition\\kernel_pca.py\u001b[0m in \u001b[0;36mfit\u001b[1;34m(self, X, y)\u001b[0m\n\u001b[0;32m    236\u001b[0m         \"\"\"\n\u001b[0;32m    237\u001b[0m         \u001b[0mX\u001b[0m \u001b[1;33m=\u001b[0m \u001b[0mcheck_array\u001b[0m\u001b[1;33m(\u001b[0m\u001b[0mX\u001b[0m\u001b[1;33m,\u001b[0m \u001b[0maccept_sparse\u001b[0m\u001b[1;33m=\u001b[0m\u001b[1;34m'csr'\u001b[0m\u001b[1;33m,\u001b[0m \u001b[0mcopy\u001b[0m\u001b[1;33m=\u001b[0m\u001b[0mself\u001b[0m\u001b[1;33m.\u001b[0m\u001b[0mcopy_X\u001b[0m\u001b[1;33m)\u001b[0m\u001b[1;33m\u001b[0m\u001b[0m\n\u001b[1;32m--> 238\u001b[1;33m         \u001b[0mK\u001b[0m \u001b[1;33m=\u001b[0m \u001b[0mself\u001b[0m\u001b[1;33m.\u001b[0m\u001b[0m_get_kernel\u001b[0m\u001b[1;33m(\u001b[0m\u001b[0mX\u001b[0m\u001b[1;33m)\u001b[0m\u001b[1;33m\u001b[0m\u001b[0m\n\u001b[0m\u001b[0;32m    239\u001b[0m         \u001b[0mself\u001b[0m\u001b[1;33m.\u001b[0m\u001b[0m_fit_transform\u001b[0m\u001b[1;33m(\u001b[0m\u001b[0mK\u001b[0m\u001b[1;33m)\u001b[0m\u001b[1;33m\u001b[0m\u001b[0m\n\u001b[0;32m    240\u001b[0m \u001b[1;33m\u001b[0m\u001b[0m\n",
      "\u001b[1;32mC:\\ProgramData\\Anaconda3\\lib\\site-packages\\sklearn\\decomposition\\kernel_pca.py\u001b[0m in \u001b[0;36m_get_kernel\u001b[1;34m(self, X, Y)\u001b[0m\n\u001b[0;32m    164\u001b[0m         return pairwise_kernels(X, Y, metric=self.kernel,\n\u001b[0;32m    165\u001b[0m                                 \u001b[0mfilter_params\u001b[0m\u001b[1;33m=\u001b[0m\u001b[1;32mTrue\u001b[0m\u001b[1;33m,\u001b[0m \u001b[0mn_jobs\u001b[0m\u001b[1;33m=\u001b[0m\u001b[0mself\u001b[0m\u001b[1;33m.\u001b[0m\u001b[0mn_jobs\u001b[0m\u001b[1;33m,\u001b[0m\u001b[1;33m\u001b[0m\u001b[0m\n\u001b[1;32m--> 166\u001b[1;33m                                 **params)\n\u001b[0m\u001b[0;32m    167\u001b[0m \u001b[1;33m\u001b[0m\u001b[0m\n\u001b[0;32m    168\u001b[0m     \u001b[1;32mdef\u001b[0m \u001b[0m_fit_transform\u001b[0m\u001b[1;33m(\u001b[0m\u001b[0mself\u001b[0m\u001b[1;33m,\u001b[0m \u001b[0mK\u001b[0m\u001b[1;33m)\u001b[0m\u001b[1;33m:\u001b[0m\u001b[1;33m\u001b[0m\u001b[0m\n",
      "\u001b[1;32mC:\\ProgramData\\Anaconda3\\lib\\site-packages\\sklearn\\metrics\\pairwise.py\u001b[0m in \u001b[0;36mpairwise_kernels\u001b[1;34m(X, Y, metric, filter_params, n_jobs, **kwds)\u001b[0m\n\u001b[0;32m   1403\u001b[0m         \u001b[1;32mraise\u001b[0m \u001b[0mValueError\u001b[0m\u001b[1;33m(\u001b[0m\u001b[1;34m\"Unknown kernel %r\"\u001b[0m \u001b[1;33m%\u001b[0m \u001b[0mmetric\u001b[0m\u001b[1;33m)\u001b[0m\u001b[1;33m\u001b[0m\u001b[0m\n\u001b[0;32m   1404\u001b[0m \u001b[1;33m\u001b[0m\u001b[0m\n\u001b[1;32m-> 1405\u001b[1;33m     \u001b[1;32mreturn\u001b[0m \u001b[0m_parallel_pairwise\u001b[0m\u001b[1;33m(\u001b[0m\u001b[0mX\u001b[0m\u001b[1;33m,\u001b[0m \u001b[0mY\u001b[0m\u001b[1;33m,\u001b[0m \u001b[0mfunc\u001b[0m\u001b[1;33m,\u001b[0m \u001b[0mn_jobs\u001b[0m\u001b[1;33m,\u001b[0m \u001b[1;33m**\u001b[0m\u001b[0mkwds\u001b[0m\u001b[1;33m)\u001b[0m\u001b[1;33m\u001b[0m\u001b[0m\n\u001b[0m",
      "\u001b[1;32mC:\\ProgramData\\Anaconda3\\lib\\site-packages\\sklearn\\metrics\\pairwise.py\u001b[0m in \u001b[0;36m_parallel_pairwise\u001b[1;34m(X, Y, func, n_jobs, **kwds)\u001b[0m\n\u001b[0;32m   1088\u001b[0m     \u001b[1;32mif\u001b[0m \u001b[0mn_jobs\u001b[0m \u001b[1;33m==\u001b[0m \u001b[1;36m1\u001b[0m\u001b[1;33m:\u001b[0m\u001b[1;33m\u001b[0m\u001b[0m\n\u001b[0;32m   1089\u001b[0m         \u001b[1;31m# Special case to avoid picklability checks in delayed\u001b[0m\u001b[1;33m\u001b[0m\u001b[1;33m\u001b[0m\u001b[0m\n\u001b[1;32m-> 1090\u001b[1;33m         \u001b[1;32mreturn\u001b[0m \u001b[0mfunc\u001b[0m\u001b[1;33m(\u001b[0m\u001b[0mX\u001b[0m\u001b[1;33m,\u001b[0m \u001b[0mY\u001b[0m\u001b[1;33m,\u001b[0m \u001b[1;33m**\u001b[0m\u001b[0mkwds\u001b[0m\u001b[1;33m)\u001b[0m\u001b[1;33m\u001b[0m\u001b[0m\n\u001b[0m\u001b[0;32m   1091\u001b[0m \u001b[1;33m\u001b[0m\u001b[0m\n\u001b[0;32m   1092\u001b[0m     \u001b[1;31m# TODO: in some cases, backend='threading' may be appropriate\u001b[0m\u001b[1;33m\u001b[0m\u001b[1;33m\u001b[0m\u001b[0m\n",
      "\u001b[1;32mC:\\ProgramData\\Anaconda3\\lib\\site-packages\\sklearn\\metrics\\pairwise.py\u001b[0m in \u001b[0;36mpolynomial_kernel\u001b[1;34m(X, Y, degree, gamma, coef0)\u001b[0m\n\u001b[0;32m    772\u001b[0m         \u001b[0mgamma\u001b[0m \u001b[1;33m=\u001b[0m \u001b[1;36m1.0\u001b[0m \u001b[1;33m/\u001b[0m \u001b[0mX\u001b[0m\u001b[1;33m.\u001b[0m\u001b[0mshape\u001b[0m\u001b[1;33m[\u001b[0m\u001b[1;36m1\u001b[0m\u001b[1;33m]\u001b[0m\u001b[1;33m\u001b[0m\u001b[0m\n\u001b[0;32m    773\u001b[0m \u001b[1;33m\u001b[0m\u001b[0m\n\u001b[1;32m--> 774\u001b[1;33m     \u001b[0mK\u001b[0m \u001b[1;33m=\u001b[0m \u001b[0msafe_sparse_dot\u001b[0m\u001b[1;33m(\u001b[0m\u001b[0mX\u001b[0m\u001b[1;33m,\u001b[0m \u001b[0mY\u001b[0m\u001b[1;33m.\u001b[0m\u001b[0mT\u001b[0m\u001b[1;33m,\u001b[0m \u001b[0mdense_output\u001b[0m\u001b[1;33m=\u001b[0m\u001b[1;32mTrue\u001b[0m\u001b[1;33m)\u001b[0m\u001b[1;33m\u001b[0m\u001b[0m\n\u001b[0m\u001b[0;32m    775\u001b[0m     \u001b[0mK\u001b[0m \u001b[1;33m*=\u001b[0m \u001b[0mgamma\u001b[0m\u001b[1;33m\u001b[0m\u001b[0m\n\u001b[0;32m    776\u001b[0m     \u001b[0mK\u001b[0m \u001b[1;33m+=\u001b[0m \u001b[0mcoef0\u001b[0m\u001b[1;33m\u001b[0m\u001b[0m\n",
      "\u001b[1;32mC:\\ProgramData\\Anaconda3\\lib\\site-packages\\sklearn\\utils\\extmath.py\u001b[0m in \u001b[0;36msafe_sparse_dot\u001b[1;34m(a, b, dense_output)\u001b[0m\n\u001b[0;32m    138\u001b[0m         \u001b[1;32mreturn\u001b[0m \u001b[0mret\u001b[0m\u001b[1;33m\u001b[0m\u001b[0m\n\u001b[0;32m    139\u001b[0m     \u001b[1;32melse\u001b[0m\u001b[1;33m:\u001b[0m\u001b[1;33m\u001b[0m\u001b[0m\n\u001b[1;32m--> 140\u001b[1;33m         \u001b[1;32mreturn\u001b[0m \u001b[0mnp\u001b[0m\u001b[1;33m.\u001b[0m\u001b[0mdot\u001b[0m\u001b[1;33m(\u001b[0m\u001b[0ma\u001b[0m\u001b[1;33m,\u001b[0m \u001b[0mb\u001b[0m\u001b[1;33m)\u001b[0m\u001b[1;33m\u001b[0m\u001b[0m\n\u001b[0m\u001b[0;32m    141\u001b[0m \u001b[1;33m\u001b[0m\u001b[0m\n\u001b[0;32m    142\u001b[0m \u001b[1;33m\u001b[0m\u001b[0m\n",
      "\u001b[1;31mMemoryError\u001b[0m: "
     ]
    }
   ],
   "source": [
    "from sklearn.decomposition import PCA, KernelPCA\n",
    "from sklearn.decomposition import KernelPCA\n",
    "\n",
    "train_imgs = np.load(CLUSTER_folder+'train_tot.npy')\n",
    "\n",
    "kpca = KernelPCA(n_components=50, kernel='poly', degree = 9, copy_X = False)\n",
    "kpca.fit(train_imgs)\n",
    "\n"
   ]
  },
  {
   "cell_type": "code",
   "execution_count": 21,
   "metadata": {
    "collapsed": true
   },
   "outputs": [],
   "source": [
    "k = 3\n",
    "\n",
    "data = np.load(CLUSTER_folder+'train_'+str(k)+'.npy')\n",
    "\n",
    "from sklearn import manifold\n",
    "\n",
    "tsne = manifold.TSNE(n_components = 2, init='random',random_state=0, perplexity=50)\n",
    "# kpca = KernelPCA(kernel=\"cosine\", n_components = 100)\n",
    "new_data = tsne.fit_transform(data)\n"
   ]
  },
  {
   "cell_type": "code",
   "execution_count": 22,
   "metadata": {},
   "outputs": [
    {
     "name": "stderr",
     "output_type": "stream",
     "text": [
      "C:\\ProgramData\\Anaconda3\\lib\\site-packages\\matplotlib\\axes\\_axes.py:545: UserWarning: No labelled objects found. Use label='...' kwarg on individual plots.\n",
      "  warnings.warn(\"No labelled objects found. \"\n"
     ]
    },
    {
     "data": {
      "image/png": "[encoded data removed]",
      "text/plain": [
       "<matplotlib.figure.Figure at 0x28c40caad30>"
      ]
     },
     "metadata": {},
     "output_type": "display_data"
    }
   ],
   "source": [
    "# 2D tSNE:\n",
    "import matplotlib.pyplot as plt\n",
    "plt.scatter(new_data[:,0], new_data[:,1], c='red')\n",
    "plt.legend()\n",
    "plt.show()\n",
    "\n",
    "# # 3D tSNE:\n",
    "# import matplotlib.pyplot as plt\n",
    "# from mpl_toolkits.mplot3d import Axes3D\n",
    "# fig = plt.figure()\n",
    "# ax = ax = Axes3D(fig)\n",
    "\n",
    "# ax.scatter(new_data[:,0], new_data[:,1], new_data[:,2], c='r')\n",
    "# plt.legend()\n",
    "# plt.show()"
   ]
  },
  {
   "cell_type": "code",
   "execution_count": 8,
   "metadata": {
    "collapsed": true
   },
   "outputs": [],
   "source": [
    "k = 3\n",
    "data = np.load(CLUSTER_folder+'train_'+str(k)+'.npy')\n",
    "\n",
    "from sklearn.decomposition import KernelPCA\n",
    "kpca = KernelPCA(kernel=\"rbf\",n_components=20)\n",
    "\n",
    "new_data = kpca.fit_transform(data)\n"
   ]
  },
  {
   "cell_type": "code",
   "execution_count": 11,
   "metadata": {},
   "outputs": [
    {
     "data": {
      "text/plain": [
       "1"
      ]
     },
     "execution_count": 11,
     "metadata": {},
     "output_type": "execute_result"
    }
   ],
   "source": [
    "a = 50\n",
    "\n",
    "min(1,max(0,a))"
   ]
  },
  {
   "cell_type": "code",
   "execution_count": 17,
   "metadata": {},
   "outputs": [
    {
     "name": "stdout",
     "output_type": "stream",
     "text": [
      "2\n",
      "3231\n"
     ]
    }
   ],
   "source": [
    "# clusterer = hdbscan.HDBSCAN(min_cluster_size=25,metric='mahalanobis', V = new_cov_mat)\n",
    "clusterer = hdbscan.HDBSCAN(min_cluster_size=5)\n",
    "# clusterer = hdbscan.HDBSCAN(min_cluster_size=3,min_samples=1,cluster_selection_method='leaf')\n",
    "# clusterer = hdbscan.HDBSCAN(min_cluster_size=3,min_samples=2)\n",
    "cluster_labels = clusterer.fit_predict(new_data)\n",
    "# cluster_labels = clusterer.fit_predict(data)\n",
    "\n",
    "print(max(cluster_labels)+1)\n",
    "print(sum(cluster_labels==-1))"
   ]
  },
  {
   "cell_type": "code",
   "execution_count": null,
   "metadata": {
    "collapsed": true
   },
   "outputs": [],
   "source": [
    "lbls_found = np.zeros((10,11,11))\n",
    "noise      = np.zeros((10,11,11))\n",
    "\n",
    "for k in range(0,10):\n",
    "    \n",
    "    data = np.load(CLUSTER_folder+'train_'+str(k)+'.npy')\n",
    "    \n",
    "    for c in range(2,11):\n",
    "        for s in range(1,c+1):\n",
    "            clusterer = hdbscan.HDBSCAN(min_cluster_size=c,min_samples=s)\n",
    "            cluster_labels = clusterer.fit_predict(data)\n",
    "            lbls_found[k,c,s] = max(cluster_labels)\n",
    "            noise[k,c,s]      = sum(cluster_labels==-1)"
   ]
  },
  {
   "cell_type": "code",
   "execution_count": 4,
   "metadata": {},
   "outputs": [
    {
     "name": "stdout",
     "output_type": "stream",
     "text": [
      "(0, 2, 1) clusters:  1015.0  \t noise:  3118.0\n",
      "(0, 2, 2) clusters:  1015.0  \t noise:  3118.0\n",
      "(0, 3, 1) clusters:  1.0  \t noise:  40.0\n",
      "(0, 3, 2) clusters:  1.0  \t noise:  40.0\n",
      "(0, 3, 3) clusters:  1.0  \t noise:  337.0\n",
      "(0, 4, 1) clusters:  3.0  \t noise:  458.0\n",
      "(0, 4, 2) clusters:  3.0  \t noise:  458.0\n",
      "(0, 4, 3) clusters:  2.0  \t noise:  2008.0\n",
      "(0, 4, 4) clusters:  11.0  \t noise:  4073.0\n",
      "(0, 5, 1) clusters:  5.0  \t noise:  1567.0\n",
      "(0, 5, 2) clusters:  5.0  \t noise:  1567.0\n",
      "(0, 5, 3) clusters:  1.0  \t noise:  2012.0\n",
      "(0, 5, 4) clusters:  5.0  \t noise:  4097.0\n",
      "(0, 5, 5) clusters:  2.0  \t noise:  3302.0\n",
      "(0, 6, 1) clusters:  1.0  \t noise:  1487.0\n",
      "(0, 6, 2) clusters:  1.0  \t noise:  1487.0\n",
      "(0, 6, 3) clusters:  1.0  \t noise:  2753.0\n",
      "(0, 6, 4) clusters:  2.0  \t noise:  3801.0\n",
      "(0, 6, 5) clusters:  2.0  \t noise:  3595.0\n",
      "(0, 6, 6) clusters:  1.0  \t noise:  4169.0\n",
      "(0, 7, 1) clusters:  1.0  \t noise:  1487.0\n",
      "(0, 7, 2) clusters:  1.0  \t noise:  1487.0\n",
      "(0, 7, 3) clusters:  2.0  \t noise:  3385.0\n",
      "(0, 7, 4) clusters:  2.0  \t noise:  3801.0\n",
      "(0, 7, 5) clusters:  5.0  \t noise:  4738.0\n",
      "(0, 7, 6) clusters:  4.0  \t noise:  4794.0\n",
      "(0, 7, 7) clusters:  2.0  \t noise:  4331.0\n",
      "(0, 8, 1) clusters:  2.0  \t noise:  2291.0\n",
      "(0, 8, 2) clusters:  2.0  \t noise:  2291.0\n",
      "(0, 8, 3) clusters:  1.0  \t noise:  3392.0\n",
      "(0, 8, 4) clusters:  6.0  \t noise:  4938.0\n",
      "(0, 8, 5) clusters:  4.0  \t noise:  4700.0\n",
      "(0, 8, 6) clusters:  3.0  \t noise:  4659.0\n",
      "(0, 8, 7) clusters:  1.0  \t noise:  4338.0\n",
      "(0, 8, 8) clusters:  2.0  \t noise:  4665.0\n",
      "(0, 9, 1) clusters:  1.0  \t noise:  2299.0\n",
      "(0, 9, 2) clusters:  1.0  \t noise:  2299.0\n",
      "(0, 9, 3) clusters:  1.0  \t noise:  3392.0\n",
      "(0, 9, 4) clusters:  1.0  \t noise:  4474.0\n",
      "(0, 9, 5) clusters:  3.0  \t noise:  4441.0\n",
      "(0, 9, 6) clusters:  3.0  \t noise:  4659.0\n",
      "(0, 9, 7) clusters:  1.0  \t noise:  4338.0\n",
      "(0, 9, 8) clusters:  1.0  \t noise:  4673.0\n",
      "(0, 9, 9) clusters:  1.0  \t noise:  4829.0\n",
      "(0, 10, 1) clusters:  1.0  \t noise:  2299.0\n",
      "(0, 10, 2) clusters:  1.0  \t noise:  2299.0\n",
      "(0, 10, 3) clusters:  1.0  \t noise:  3392.0\n",
      "(0, 10, 4) clusters:  2.0  \t noise:  4725.0\n",
      "(0, 10, 5) clusters:  3.0  \t noise:  4441.0\n",
      "(0, 10, 6) clusters:  2.0  \t noise:  4668.0\n",
      "(0, 10, 7) clusters:  1.0  \t noise:  4338.0\n",
      "(0, 10, 8) clusters:  1.0  \t noise:  4673.0\n",
      "(0, 10, 9) clusters:  1.0  \t noise:  4829.0\n",
      "(0, 10, 10) clusters:  1.0  \t noise:  4895.0\n"
     ]
    }
   ],
   "source": [
    "import numpy as np\n",
    "# np.save('lbls_found.npy', lbls_found)\n",
    "# np.save('noise.npy', noise)\n",
    "\n",
    "lbls_found = np.load('lbls_found.npy')\n",
    "noise      = np.load('noise.npy')\n",
    "\n",
    "k = 0\n",
    "for c in range(2,11):\n",
    "    for s in range(1,c+1):\n",
    "        print((k,c,s),'clusters: ',lbls_found[k,c,s],' \\t noise: ',noise[k,c,s])"
   ]
  },
  {
   "cell_type": "code",
   "execution_count": null,
   "metadata": {
    "collapsed": true
   },
   "outputs": [],
   "source": []
  },
  {
   "cell_type": "code",
   "execution_count": null,
   "metadata": {
    "collapsed": true
   },
   "outputs": [],
   "source": []
  },
  {
   "cell_type": "code",
   "execution_count": null,
   "metadata": {
    "collapsed": true
   },
   "outputs": [],
   "source": []
  },
  {
   "cell_type": "code",
   "execution_count": null,
   "metadata": {
    "collapsed": true
   },
   "outputs": [],
   "source": []
  },
  {
   "cell_type": "code",
   "execution_count": null,
   "metadata": {
    "collapsed": true
   },
   "outputs": [],
   "source": []
  },
  {
   "cell_type": "code",
   "execution_count": null,
   "metadata": {
    "collapsed": true
   },
   "outputs": [],
   "source": []
  }
 ],
 "metadata": {
  "kernelspec": {
   "display_name": "Python 3",
   "language": "python",
   "name": "python3"
  },
  "language_info": {
   "codemirror_mode": {
    "name": "ipython",
    "version": 3
   },
   "file_extension": ".py",
   "mimetype": "text/x-python",
   "name": "python",
   "nbconvert_exporter": "python",
   "pygments_lexer": "ipython3",
   "version": "3.6.1"
  }
 },
 "nbformat": 4,
 "nbformat_minor": 2
}
