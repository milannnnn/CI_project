{
 "cells": [
  {
   "cell_type": "markdown",
   "metadata": {},
   "source": [
    "### 0) Data Importing and Helper Function Definition:"
   ]
  },
  {
   "cell_type": "code",
   "execution_count": 1,
   "metadata": {
    "collapsed": true
   },
   "outputs": [],
   "source": [
    "import numpy as np\n",
    "\n",
    "DATA_folder  = '../../Data/'\n",
    "data = np.load(DATA_folder+'train_imgs.npy')\n",
    "lbls = np.load(DATA_folder+'train_lbls.npy')\n",
    "test_data = np.load(DATA_folder+'test_imgs.npy')\n",
    "test_lbls = np.load(DATA_folder+'test_lbls.npy')"
   ]
  },
  {
   "cell_type": "code",
   "execution_count": 2,
   "metadata": {},
   "outputs": [
    {
     "data": {
      "text/plain": [
       "(5923, 784)"
      ]
     },
     "execution_count": 2,
     "metadata": {},
     "output_type": "execute_result"
    }
   ],
   "source": [
    "data[lbls==0,:].shape"
   ]
  },
  {
   "cell_type": "markdown",
   "metadata": {},
   "source": [
    "### 1) Definition of RBF Transformer Object:\n",
    "\n",
    "RBF Transformer is a scikit-learn compatible transformer object that implements:\n",
    "\n",
    "    - fit method       - clusters the digit-separated data, and computes cluster centers and inv. sq. deviations\n",
    "    - transform method - based on obtained centers and deviations it computes the fi values (RBF layer outputs) as \n",
    "                         simple Gaussian functions -> Fi_k(x) = exp{ -sqrt( sum[ (x_i-c_k_i)/(dev_i^2) ] ) } \n",
    "                         \n",
    "### Normalizing each Fi row with row sum -> STABILIZED the Regression a lot!!!"
   ]
  },
  {
   "cell_type": "markdown",
   "metadata": {},
   "source": [
    "#### Definition of Clustering Function:"
   ]
  },
  {
   "cell_type": "code",
   "execution_count": 3,
   "metadata": {
    "collapsed": true
   },
   "outputs": [],
   "source": [
    "### Clustering:\n",
    "\n",
    "from sklearn.cluster import KMeans\n",
    "\n",
    "# Function for data clustering, and computation of cluster center vectors and inv. sq. deviation vectors\n",
    "def form_clusters(data, n_kmeans):\n",
    "    \n",
    "    kmeans = KMeans(n_clusters=n_kmeans, random_state=0, init='k-means++', algorithm='elkan')\n",
    "    lbls_kmeans = kmeans.fit_predict(data)\n",
    "    \n",
    "    lbls_set = [lbls_kmeans] # just as an option to include more clustering methods\n",
    "    \n",
    "    centers   = []\n",
    "    inv_sq_devs  = []\n",
    "    \n",
    "    # Find cluster centers and covar matrix:\n",
    "    for lbls in lbls_set:\n",
    "        for k in range(max(lbls)+1):\n",
    "            \n",
    "            cluster = data[lbls==k,:]\n",
    "            centers.append(cluster.mean(axis=0))\n",
    "            dev = np.std(cluster,axis=0)\n",
    "            dev[dev==0]+=1e-3 # to avoid Infs and NaNs\n",
    "            inv_sq_devs.append(np.reciprocal(np.square(dev)))\n",
    "            \n",
    "        del cluster, dev\n",
    "    return centers, inv_sq_devs;\n"
   ]
  },
  {
   "cell_type": "markdown",
   "metadata": {},
   "source": [
    "#### Definition of RBF (Fi) Function:"
   ]
  },
  {
   "cell_type": "code",
   "execution_count": 4,
   "metadata": {
    "collapsed": true
   },
   "outputs": [],
   "source": [
    "# Function to calculate one Fi column for given dataset (for one RB center)\n",
    "def calc_fi_column(data, center, inv_sq_devs):\n",
    "    # data        - given dataset matrix for which to compute fi values\n",
    "    # center      - given center vector on which to compute fi vals\n",
    "    # inv_sq_devs - given reciprocal sq. deviation vector on which to compute fi vals \n",
    "    \n",
    "    fi_col = np.empty((data.shape[0],1))\n",
    "    # tmp  = data - np.dot(np.ones((data.shape[0],1)),center.reshape((1,center.shape[0])))\n",
    "    # tmp2 = np.square(tmp)\n",
    "    # tmp3 = np.dot(tmp2,inv_sq_devs)\n",
    "    # fi_col = np.exp(-np.sqrt(tmp3))\n",
    "    fi_col = np.exp(-np.sqrt(np.dot(np.square(data - np.dot(np.ones((data.shape[0],1)),center.reshape((1,center.shape[0])))),inv_sq_devs)))\n",
    "\n",
    "    return fi_col;\n",
    "\n",
    "# Function to compute whole Fi output for given dataset (for all RB centers)\n",
    "def fi_transform(data, all_centers, all_inv_sq_devs):\n",
    "    # data        - given dataset matrix for which to compute fi values\n",
    "    # center      - list of all center vectors on which to compute fi vals\n",
    "    # inv_sq_devs - list of all reciprocal sq. deviation vectors on which to compute fi vals     \n",
    "    new_data = np.empty((data.shape[0],len(all_centers)))\n",
    "    for k in range(len(all_centers)):\n",
    "        new_data[:,k] = calc_fi_column(data, all_centers[k], all_inv_sq_devs[k])\n",
    "    \n",
    "    return new_data"
   ]
  },
  {
   "cell_type": "markdown",
   "metadata": {},
   "source": [
    "#### Definition of RBF Transformer (sklearn compatible object):"
   ]
  },
  {
   "cell_type": "code",
   "execution_count": 5,
   "metadata": {
    "collapsed": true
   },
   "outputs": [],
   "source": [
    "# http://scikit-learn.org/stable/modules/classes.html#module-sklearn.base\n",
    "\n",
    "from sklearn.base import TransformerMixin\n",
    "\n",
    "# SKLEARN Compatible Transformer - supports fit method (custering data) and transform method (calculating fi values)\n",
    "class myRBFtransformer(TransformerMixin):\n",
    "    \n",
    "    # Transformer initialization (default to 50 kMeans clusters)\n",
    "    def __init__(self, n_kmeans=50, n_fi_max=5):\n",
    "        self.n_kmeans    = n_kmeans                 # num of kMeans clusters per digit\n",
    "        self.n_fi_max    = min(n_fi_max,n_kmeans)   # num of max fi vals to return per digit\n",
    "        self.centers     = []                       # list of cluster center vectors\n",
    "        self.inv_sq_devs = []                       # list of cluster inv. sq. dev. vectors\n",
    "        self.num_centers = []                       # list of number of centers per digit\n",
    "        print(self.n_kmeans,self.n_fi_max)\n",
    "    \n",
    "    # Clusters each digit and finds cluster centers and deviations:\n",
    "    def fit(self, X, y):\n",
    "        self.centers     = []\n",
    "        self.inv_sq_devs = []\n",
    "        self.num_centers = []\n",
    "        for dig in range(10):\n",
    "            print('Clustering digit: ',dig)\n",
    "            data = X[y==dig,:]\n",
    "            centers, inv_sq_devs = form_clusters(data, self.n_kmeans)\n",
    "            self.centers.extend(centers)\n",
    "            self.inv_sq_devs.extend(inv_sq_devs)\n",
    "            self.num_centers.append(len(centers))\n",
    "        return self\n",
    "    \n",
    "    # Computes fi values (with Gaussian function) based on obtained cluster centers and deviations:\n",
    "    def transform(self, X, y=None):\n",
    "        \n",
    "        # Compute all Fi values: \n",
    "        all_fis = fi_transform(X, self.centers, self.inv_sq_devs)\n",
    "        \n",
    "        # Find N max fi vals for each digit:\n",
    "        n_max  = self.n_fi_max\n",
    "        result = np.empty((X.shape[0],n_max*10))\n",
    "        start  = 0\n",
    "        for k in range(10):\n",
    "            end = start + self.num_centers[k]\n",
    "            result[:,(k*n_max):((k+1)*n_max)] = np.sort(all_fis[:,start:end],axis=1)[:,-n_max:]\n",
    "            start = end\n",
    "        del all_fis\n",
    "        # Normalize each row with the sum of row elements:\n",
    "        result = np.divide(result,np.sum(result,axis=1).reshape((result.shape[0],1)))\n",
    "        return result"
   ]
  },
  {
   "cell_type": "code",
   "execution_count": 6,
   "metadata": {
    "collapsed": true
   },
   "outputs": [],
   "source": [
    "# a = np.arange(12).reshape((4,3))\n",
    "# np.divide(a,np.sum(a,axis=1).reshape((a.shape[0],1)))\n",
    "\n",
    "#------------------------------------------------------------------\n",
    "# Transformation -> Max and Mean Fi values for each digit:\n",
    "#------------------------------------------------------------------\n",
    "#     # Computes fi values (with Gaussian function) based on obtained cluster centers and deviations:\n",
    "#     def transform(self, X, y=None):\n",
    "#         \n",
    "#         # Compute all Fi values: \n",
    "#         all_fis = fi_transform(X, self.centers, self.inv_sq_devs)\n",
    "#         \n",
    "#         # Find Max and Mean fi vals for each digit:\n",
    "#         result = np.empty((X.shape[0],20))\n",
    "#         start  = 0\n",
    "#         for k in range(10):\n",
    "#             end = start + self.num_centers[k]\n",
    "#             result[:,2*k]   = all_fis[:,start:end].max(axis=1)\n",
    "#             result[:,2*k+1] = all_fis[:,start:end].mean(axis=1)\n",
    "#             # print(start,end)\n",
    "#             start = end\n",
    "#         del all_fis\n",
    "#         return result\n",
    "\n",
    "#------------------------------------------------------------------\n",
    "# Transformation -> N Max Fi values for each digit:\n",
    "#------------------------------------------------------------------\n",
    "#     # Computes fi values (with Gaussian function) based on obtained cluster centers and deviations:\n",
    "#     def transform(self, X, y=None):\n",
    "#         \n",
    "#         # Compute all Fi values: \n",
    "#         all_fis = fi_transform(X, self.centers, self.inv_sq_devs)\n",
    "#         \n",
    "#         # Find N max fi vals for each digit:\n",
    "#         n_max  = self.n_fi_max\n",
    "#         result = np.empty((X.shape[0],n_max*10))\n",
    "#         start  = 0\n",
    "#         for k in range(10):\n",
    "#             end = start + self.num_centers[k]\n",
    "#             result[:,(k*n_max):((k+1)*n_max)] = np.sort(all_fis[:,start:end],axis=1)[:,-n_max:]\n",
    "#             start = end\n",
    "#         del all_fis\n",
    "#         return result\n",
    "\n",
    "#------------------------------------------------------------------\n",
    "# Transformation -> N Max Fi values for each digit (normalized with row sum):\n",
    "#------------------------------------------------------------------\n",
    "#     # Computes fi values (with Gaussian function) based on obtained cluster centers and deviations:\n",
    "#     def transform(self, X, y=None):\n",
    "#         \n",
    "#         # Compute all Fi values: \n",
    "#         all_fis = fi_transform(X, self.centers, self.inv_sq_devs)\n",
    "#         \n",
    "#         # Find N max fi vals for each digit:\n",
    "#         n_max  = self.n_fi_max\n",
    "#         result = np.empty((X.shape[0],n_max*10))\n",
    "#         start  = 0\n",
    "#         for k in range(10):\n",
    "#             end = start + self.num_centers[k]\n",
    "#             result[:,(k*n_max):((k+1)*n_max)] = np.sort(all_fis[:,start:end],axis=1)[:,-n_max:]\n",
    "#             start = end\n",
    "#         del all_fis\n",
    "#         # Normalize each row with the sum of row elements:\n",
    "#         result = np.divide(result,np.sum(result,axis=1).reshape((result.shape[0],1)))\n",
    "#         return result"
   ]
  },
  {
   "cell_type": "code",
   "execution_count": 7,
   "metadata": {},
   "outputs": [],
   "source": [
    "# # Test:\n",
    "# rbf = myRBFtransformer(n_kmeans = 10)\n",
    "# a   = rbf.fit_transform(X=data[:500,:],y=lbls[:500])\n",
    "# a.max(axis=1)\n"
   ]
  },
  {
   "cell_type": "markdown",
   "metadata": {},
   "source": [
    "### 3) Pipelining the Model:"
   ]
  },
  {
   "cell_type": "code",
   "execution_count": 8,
   "metadata": {},
   "outputs": [
    {
     "name": "stdout",
     "output_type": "stream",
     "text": [
      "500 10\n"
     ]
    }
   ],
   "source": [
    "from sklearn.preprocessing import StandardScaler\n",
    "from sklearn.decomposition import PCA\n",
    "from sklearn.linear_model  import LogisticRegression\n",
    "\n",
    "n_pca    = 545 # First dimension to retain 99 % variance (stanford edu recomendation for images)!!!\n",
    "n_kmeans = 500\n",
    "n_fi_max = 10\n",
    "\n",
    "scaler = StandardScaler()\n",
    "pca    = PCA(n_components=n_pca, whiten=True)\n",
    "rbf    = myRBFtransformer(n_kmeans=n_kmeans,n_fi_max=n_fi_max)"
   ]
  },
  {
   "cell_type": "code",
   "execution_count": 9,
   "metadata": {
    "collapsed": true
   },
   "outputs": [],
   "source": [
    "from sklearn.pipeline import Pipeline\n",
    "my_pipe = Pipeline(steps=[('scal1', scaler1), ('pca', pca), ('rbf',rbf)])"
   ]
  },
  {
   "cell_type": "code",
   "execution_count": 10,
   "metadata": {
    "scrolled": true
   },
   "outputs": [
    {
     "name": "stderr",
     "output_type": "stream",
     "text": [
      "C:\\ProgramData\\Anaconda3\\lib\\site-packages\\sklearn\\utils\\validation.py:475: DataConversionWarning: Data with input dtype int32 was converted to float64 by StandardScaler.\n",
      "  warnings.warn(msg, DataConversionWarning)\n"
     ]
    },
    {
     "name": "stdout",
     "output_type": "stream",
     "text": [
      "Clustering digit:  0\n",
      "Clustering digit:  1\n",
      "Clustering digit:  2\n",
      "Clustering digit:  3\n",
      "Clustering digit:  4\n",
      "Clustering digit:  5\n",
      "Clustering digit:  6\n",
      "Clustering digit:  7\n",
      "Clustering digit:  8\n",
      "Clustering digit:  9\n"
     ]
    }
   ],
   "source": [
    "output = my_pipe.fit_transform(X=test_data,y=test_lbls)"
   ]
  },
  {
   "cell_type": "code",
   "execution_count": 79,
   "metadata": {},
   "outputs": [
    {
     "data": {
      "text/plain": [
       "LogisticRegression(C=1000000000000.0, class_weight=None, dual=False,\n",
       "          fit_intercept=True, intercept_scaling=1, max_iter=100,\n",
       "          multi_class='ovr', n_jobs=1, penalty='l2', random_state=12,\n",
       "          solver='liblinear', tol=1e-12, verbose=0, warm_start=False)"
      ]
     },
     "execution_count": 79,
     "metadata": {},
     "output_type": "execute_result"
    }
   ],
   "source": [
    "# logreg = LogisticRegression(tol=1e-32,C=1e32,random_state=12,solver='newton-cg',multi_class ='multinomial')\n",
    "# 81.6%\n",
    "\n",
    "# logreg = LogisticRegression(tol=1e-32,C=1e32,random_state=12,solver='newton-cg',multi_class ='multinomial')\n",
    "# 97.25% with kmeans = 500\n",
    "\n",
    "# logreg = LogisticRegression(tol=1e-32,C=1e32,random_state=12,solver='liblinear',penalty ='l2')\n",
    "# logreg = LogisticRegression(tol=1e-8,C=1e+8,random_state=12,solver='newton-cg',multi_class ='multinomial',max_iter=1000)\n",
    "# logreg = LogisticRegression(tol=1e-12,C=1e+12,random_state=12,solver='newton-cg',multi_class ='ovr',max_iter=10000)\n",
    "logreg = LogisticRegression(tol=1e-12,C=1e+12,random_state=12,solver='liblinear')\n",
    "logreg.fit(output, test_lbls)"
   ]
  },
  {
   "cell_type": "code",
   "execution_count": 80,
   "metadata": {},
   "outputs": [
    {
     "name": "stdout",
     "output_type": "stream",
     "text": [
      "99.8\n"
     ]
    }
   ],
   "source": [
    "################################################################\n",
    "#                                                              #\n",
    "# -------------------- Solver Comparison --------------------- #\n",
    "#                                                              #\n",
    "# A) multinomial,tol=1e-12,C=1e+12:                            #\n",
    "#                                                              #\n",
    "#  1) newton-cg - 100.0 % -> best, but slowest solver !!!      #\n",
    "#  2) sag       - 96.26 % -> mediocore, medium fast            #\n",
    "#  3) lbfgs     - 95.95 % -> mediocore, but fastest            #\n",
    "#  4) saga      - 95.28 % -> mediocore badish for low max_iter #\n",
    "#                           ok for high max_iter, but slow     #\n",
    "#                                                              #\n",
    "# B) OVR,tol=1e-12,C=1e+12:                                    #\n",
    "#                                                              #\n",
    "#  1) liblinear - 99.80 % -> fast and quite good               #\n",
    "################################################################\n",
    "#                                                              #\n",
    "# -------------------- Solver Comparison --------------------- #\n",
    "#                                                              #\n",
    "# A) multinomial,tol=1e-12,C=1e+12:                            #\n",
    "#                                                              #\n",
    "#  1) newton-cg - 100.0 % -> best, but slowest solver !!!      #\n",
    "#  2) sag       - 96.26 % -> mediocore, medium fast            #\n",
    "#  3) lbfgs     - 95.95 % -> mediocore, but fastest            #\n",
    "#  4) saga      - 95.28 % -> mediocore badish for low max_iter #\n",
    "#                           ok for high max_iter, but slow     #\n",
    "#                                                              #\n",
    "# B) OVR,tol=1e-12,C=1e+12:                                    #\n",
    "#                                                              #\n",
    "#  1) liblinear - 99.80 % -> med. fast and quite good          #\n",
    "#  1) newton-cg -  % -> again really slow (and prob. good)     #\n",
    "#                                                              #\n",
    "################################################################\n",
    "\n",
    "# with sum divided values (without scaler):\n",
    "#  % - 10 fi vals, sum divided\n",
    "print(logreg.score(output, test_lbls)*100)"
   ]
  },
  {
   "cell_type": "code",
   "execution_count": 82,
   "metadata": {},
   "outputs": [
    {
     "name": "stdout",
     "output_type": "stream",
     "text": [
      "             precision    recall  f1-score   support\n",
      "\n",
      "          0       1.00      1.00      1.00       979\n",
      "          1       1.00      0.99      1.00      1140\n",
      "          2       1.00      0.99      1.00      1038\n",
      "          3       1.00      1.00      1.00      1010\n",
      "          4       1.00      1.00      1.00       981\n",
      "          5       1.00      1.00      1.00       892\n",
      "          6       1.00      1.00      1.00       957\n",
      "          7       1.00      1.00      1.00      1025\n",
      "          8       1.00      1.00      1.00       975\n",
      "          9       0.99      1.00      1.00      1003\n",
      "\n",
      "avg / total       1.00      1.00      1.00     10000\n",
      "\n"
     ]
    }
   ],
   "source": [
    "from sklearn.metrics import classification_report\n",
    "\n",
    "print(classification_report(logreg.predict(output),test_lbls))"
   ]
  },
  {
   "cell_type": "code",
   "execution_count": null,
   "metadata": {
    "collapsed": true
   },
   "outputs": [],
   "source": []
  },
  {
   "cell_type": "code",
   "execution_count": null,
   "metadata": {
    "collapsed": true
   },
   "outputs": [],
   "source": []
  },
  {
   "cell_type": "code",
   "execution_count": null,
   "metadata": {},
   "outputs": [],
   "source": []
  },
  {
   "cell_type": "code",
   "execution_count": null,
   "metadata": {},
   "outputs": [],
   "source": []
  },
  {
   "cell_type": "code",
   "execution_count": 78,
   "metadata": {},
   "outputs": [
    {
     "data": {
      "text/plain": [
       "array([7, 2, 1, 0, 4, 1, 4, 9, 5, 9, 0, 6, 9, 0, 1, 5, 9, 7, 3, 4, 9, 6, 6,\n",
       "       5, 4, 0, 7, 4, 0, 1, 3, 1, 3, 4, 7, 2, 7, 1, 2, 1, 1, 7, 4, 2, 3, 5,\n",
       "       1, 2, 4, 4, 6, 3, 5, 5, 6, 0, 4, 1, 9, 5, 7, 8, 9, 3, 7, 4, 6, 4, 3,\n",
       "       0, 7, 0, 2, 9, 1, 7, 3, 2, 9, 7, 7, 6, 2, 7, 8, 4, 7, 3, 6, 1, 3, 6,\n",
       "       9, 3, 1, 4, 1, 7, 6, 9], dtype=uint8)"
      ]
     },
     "execution_count": 78,
     "metadata": {},
     "output_type": "execute_result"
    }
   ],
   "source": [
    "logreg.predict(output)[0:100]"
   ]
  },
  {
   "cell_type": "code",
   "execution_count": null,
   "metadata": {},
   "outputs": [],
   "source": []
  },
  {
   "cell_type": "code",
   "execution_count": null,
   "metadata": {},
   "outputs": [],
   "source": []
  },
  {
   "cell_type": "code",
   "execution_count": null,
   "metadata": {},
   "outputs": [],
   "source": []
  }
 ],
 "metadata": {
  "kernelspec": {
   "display_name": "Python 3",
   "language": "python",
   "name": "python3"
  },
  "language_info": {
   "codemirror_mode": {
    "name": "ipython",
    "version": 3
   },
   "file_extension": ".py",
   "mimetype": "text/x-python",
   "name": "python",
   "nbconvert_exporter": "python",
   "pygments_lexer": "ipython3",
   "version": "3.6.1"
  }
 },
 "nbformat": 4,
 "nbformat_minor": 2
}
