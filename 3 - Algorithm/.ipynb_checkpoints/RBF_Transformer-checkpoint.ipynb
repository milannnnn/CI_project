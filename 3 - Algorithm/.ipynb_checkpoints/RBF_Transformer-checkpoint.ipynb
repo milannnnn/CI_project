{
 "cells": [
  {
   "cell_type": "markdown",
   "metadata": {},
   "source": [
    "#### Definition of Clustering Function:"
   ]
  },
  {
   "cell_type": "code",
   "execution_count": 41,
   "metadata": {
    "collapsed": true
   },
   "outputs": [],
   "source": [
    "### Clustering:\n",
    "\n",
    "from sklearn.cluster import KMeans\n",
    "\n",
    "# Function for data clustering, and computation of cluster center vectors and inv. sq. deviation vectors\n",
    "def form_clusters(data, n_kmeans):\n",
    "    \n",
    "    kmeans = KMeans(n_clusters=n_kmeans, random_state=0, init='k-means++', algorithm='elkan')\n",
    "    lbls_kmeans = kmeans.fit_predict(data)\n",
    "    \n",
    "    lbls_set = [lbls_kmeans] # just as an option to include more clustering methods\n",
    "    \n",
    "    centers   = []\n",
    "    inv_sq_devs  = []\n",
    "    \n",
    "    # Find cluster centers and covar matrix:\n",
    "    for lbls in lbls_set:\n",
    "        for k in range(max(lbls)+1):\n",
    "            # Ignore single element clusters (we cannot determine the spread)\n",
    "            if(sum(lbls==k)>=2):\n",
    "                # print(k, sum(lbls==k),'elems')\n",
    "                cluster = data[lbls==k,:]\n",
    "                centers.append(cluster.mean(axis=0))\n",
    "                dev = np.std(cluster,axis=0)\n",
    "                dev[dev==0]+=1e-6 # to avoid Infs and NaNs\n",
    "                inv_sq_devs.append(np.reciprocal(np.square(dev)))\n",
    "        del cluster, dev\n",
    "    return centers, inv_sq_devs;\n"
   ]
  },
  {
   "cell_type": "markdown",
   "metadata": {},
   "source": [
    "#### Definition of RBF (Fi) Function:"
   ]
  },
  {
   "cell_type": "code",
   "execution_count": 42,
   "metadata": {
    "collapsed": true
   },
   "outputs": [],
   "source": [
    "# Function to calculate one Fi column for given dataset (for one RB center)\n",
    "def calc_fi_column(data, center, inv_sq_devs):\n",
    "    # data        - given dataset matrix for which to compute fi values\n",
    "    # center      - given center vector on which to compute fi vals\n",
    "    # inv_sq_devs - given reciprocal sq. deviation vector on which to compute fi vals \n",
    "    \n",
    "    fi_col = np.empty((data.shape[0],1))\n",
    "    # tmp  = data - np.dot(np.ones((data.shape[0],1)),center.reshape((1,center.shape[0])))\n",
    "    # tmp2 = np.square(tmp)\n",
    "    # tmp3 = np.dot(tmp2,inv_sq_devs)\n",
    "    # fi_col = np.exp(-np.sqrt(tmp3))\n",
    "    fi_col = np.exp(-np.sqrt(np.dot(np.square(data - np.dot(np.ones((data.shape[0],1)),center.reshape((1,center.shape[0])))),inv_sq_devs)))\n",
    "\n",
    "    return fi_col;\n",
    "\n",
    "# Function to compute whole Fi output for given dataset (for all RB centers)\n",
    "def fi_transform(data, all_centers, all_inv_sq_devs):\n",
    "    # data        - given dataset matrix for which to compute fi values\n",
    "    # center      - list of all center vectors on which to compute fi vals\n",
    "    # inv_sq_devs - list of all reciprocal sq. deviation vectors on which to compute fi vals     \n",
    "    new_data = np.empty((data.shape[0],len(all_centers)))\n",
    "    for k in range(len(all_centers)):\n",
    "        new_data[:,k] = calc_fi_column(data, all_centers[k], all_inv_sq_devs[k])\n",
    "    \n",
    "    return new_data"
   ]
  },
  {
   "cell_type": "markdown",
   "metadata": {},
   "source": [
    "#### Definition of RBF Transformer (sklearn compatible object):"
   ]
  },
  {
   "cell_type": "code",
   "execution_count": 46,
   "metadata": {
    "collapsed": true
   },
   "outputs": [],
   "source": [
    "# http://scikit-learn.org/stable/modules/classes.html#module-sklearn.base\n",
    "\n",
    "from sklearn.base import TransformerMixin\n",
    "\n",
    "# SKLEARN Compatible Transformer - supports fit method (custering data) and transform method (calculating fi values)\n",
    "class myRBFtransformer(TransformerMixin):\n",
    "    \n",
    "    # Transformer initialization (default to 50 kMeans clusters)\n",
    "    def __init__(self, n_kmeans=50):\n",
    "        self.centers     = []\n",
    "        self.inv_sq_devs = []\n",
    "        self.n_kmeans    = n_kmeans\n",
    "        # print(self.n_kmeans)\n",
    "    \n",
    "    # Clusters each digit and finds cluster centers and deviations:\n",
    "    def fit(self, X, y):\n",
    "        self.centers  = []\n",
    "        self.inv_sq_devs = []\n",
    "        for dig in range(10):\n",
    "            data = X[y==dig,:]\n",
    "            centers, inv_sq_devs = form_clusters(data, self.n_kmeans)\n",
    "            self.centers.extend(centers)\n",
    "            self.inv_sq_devs.extend(inv_sq_devs)\n",
    "        return self\n",
    "    \n",
    "    # Computes fi values (with Gaussian function) based on obtained cluster centers and deviations:\n",
    "    def transform(self, X, y=None):\n",
    "        result = fi_transform(X, self.centers, self.inv_sq_devs)\n",
    "        return result"
   ]
  },
  {
   "cell_type": "code",
   "execution_count": 47,
   "metadata": {},
   "outputs": [
    {
     "data": {
      "text/plain": [
       "(5923, 784)"
      ]
     },
     "execution_count": 47,
     "metadata": {},
     "output_type": "execute_result"
    }
   ],
   "source": [
    "import numpy as np\n",
    "DATA_folder  = '../../Data/'\n",
    "CLUSTER_folder = DATA_folder+'Clusters/'### Data Transformation:\n",
    "data = np.load(CLUSTER_folder+'train_imgs.npy')\n",
    "lbls = np.load(CLUSTER_folder+'train_lbls.npy')\n",
    "data[lbls==0,:].shape"
   ]
  },
  {
   "cell_type": "code",
   "execution_count": 49,
   "metadata": {
    "collapsed": true
   },
   "outputs": [],
   "source": [
    "rbf = myRBFtransformer(n_kmeans = 10)"
   ]
  },
  {
   "cell_type": "code",
   "execution_count": 50,
   "metadata": {
    "collapsed": true
   },
   "outputs": [],
   "source": [
    "a = rbf.fit_transform(X=data[:5000,:],y=lbls[:5000])"
   ]
  },
  {
   "cell_type": "code",
   "execution_count": 51,
   "metadata": {},
   "outputs": [
    {
     "data": {
      "text/plain": [
       "array([  5.96230507e-11,   7.29714668e-06,   7.02719853e-16,\n",
       "         9.43751200e-05,   5.80700201e-07,   9.33582647e-09,\n",
       "         1.34884251e-06,   5.30407799e-07,   1.38960260e-04,\n",
       "         4.51619094e-07,   1.47673402e-06,   1.18912113e-06,\n",
       "         1.63669014e-09,   5.99345714e-06,   3.24922518e-04,\n",
       "         1.03333804e-05,   2.51904559e-09,   2.30081078e-06,\n",
       "         3.35790053e-07,   7.83227159e-07])"
      ]
     },
     "execution_count": 51,
     "metadata": {},
     "output_type": "execute_result"
    }
   ],
   "source": [
    "a.max(axis=1)[:20]"
   ]
  },
  {
   "cell_type": "code",
   "execution_count": 53,
   "metadata": {},
   "outputs": [
    {
     "data": {
      "text/plain": [
       "5"
      ]
     },
     "execution_count": 53,
     "metadata": {},
     "output_type": "execute_result"
    }
   ],
   "source": [
    "lbls[0]"
   ]
  }
 ],
 "metadata": {
  "kernelspec": {
   "display_name": "Python 3",
   "language": "python",
   "name": "python3"
  },
  "language_info": {
   "codemirror_mode": {
    "name": "ipython",
    "version": 3
   },
   "file_extension": ".py",
   "mimetype": "text/x-python",
   "name": "python",
   "nbconvert_exporter": "python",
   "pygments_lexer": "ipython3",
   "version": "3.6.1"
  }
 },
 "nbformat": 4,
 "nbformat_minor": 2
}
