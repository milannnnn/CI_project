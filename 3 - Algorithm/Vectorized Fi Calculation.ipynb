{
 "cells": [
  {
   "cell_type": "code",
   "execution_count": 1,
   "metadata": {},
   "outputs": [
    {
     "name": "stdout",
     "output_type": "stream",
     "text": [
      "34.30606460571289\n"
     ]
    }
   ],
   "source": [
    "### Vectorized Fi Calculation:\n",
    "\n",
    "import numpy as np\n",
    "import time\n",
    "\n",
    "k = 5000 # num of centers\n",
    "n = 550 # num of dims\n",
    "s = 50 # num of smpls\n",
    "\n",
    "centers = np.arange(k*n).reshape((k,n))*2.0\n",
    "devs    = np.arange(k*n).reshape((k,n))*1.0\n",
    "data    = np.arange(s*n).reshape((s,n))+1.0\n",
    "\n",
    "# C_mat = np.repeat(centers[:,np.newaxis,:],s,axis=1)\n",
    "# D_mat = np.repeat(devs[:,np.newaxis,:],s,axis=1)\n",
    "\n",
    "# C_mat = C_mat - data\n",
    "# C_mat = np.square(C_mat)\n",
    "\n",
    "# X = np.multiply(C_mat,D_mat).sum(axis=2).T\n",
    "\n",
    "# X = np.multiply( np.square(np.repeat(centers[:,np.newaxis,:],s,axis=1) - data), np.repeat(devs[:,np.newaxis,:],s,axis=1) ).sum(axis=2).T\n",
    "\n",
    "# X = np.exp(-np.sqrt(np.multiply( np.square(np.repeat(centers[:,np.newaxis,:],s,axis=1) - data), np.repeat(devs[:,np.newaxis,:],s,axis=1) ).sum(axis=2).T))\n",
    "\n",
    "length = 500\n",
    "t = time.time()\n",
    "Ss = round(length/s)\n",
    "Y = np.empty((length,k))\n",
    "for q in range(Ss):\n",
    "    Y[(q*s):(q*s+s),:] = np.multiply( np.square(np.repeat(centers[:,np.newaxis,:],s,axis=1) - data), np.repeat(devs[:,np.newaxis,:],s,axis=1) ).sum(axis=2).T\n",
    "Y = np.exp(-np.sqrt(Y))\n",
    "\n",
    "print(time.time()-t)"
   ]
  },
  {
   "cell_type": "code",
   "execution_count": null,
   "metadata": {
    "collapsed": true
   },
   "outputs": [],
   "source": []
  }
 ],
 "metadata": {
  "kernelspec": {
   "display_name": "Python 3",
   "language": "python",
   "name": "python3"
  },
  "language_info": {
   "codemirror_mode": {
    "name": "ipython",
    "version": 3
   },
   "file_extension": ".py",
   "mimetype": "text/x-python",
   "name": "python",
   "nbconvert_exporter": "python",
   "pygments_lexer": "ipython3",
   "version": "3.6.1"
  }
 },
 "nbformat": 4,
 "nbformat_minor": 2
}
